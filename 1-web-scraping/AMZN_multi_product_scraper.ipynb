{
 "cells": [
  {
   "cell_type": "markdown",
   "metadata": {},
   "source": [
    "<h2>Scraping multiple products on Amazon</h2>"
   ]
  },
  {
   "cell_type": "code",
   "execution_count": 1,
   "metadata": {},
   "outputs": [],
   "source": [
    "# Imports\n",
    "from bs4 import BeautifulSoup\n",
    "import requests\n",
    "import pandas as pd\n",
    "\n",
    "# Loading environment variable\n",
    "import os\n",
    "from dotenv import load_dotenv\n",
    "load_dotenv()\n",
    "User_Agent = os.environ.get('USER_AGENT')\n",
    "\n",
    "# URL is based on search results page\n",
    "URL = 'https://www.amazon.com/s?k=fidget+spinner&crid=1B26YBXIB4M79&sprefix=fidget+spinner%2Caps%2C84&ref=nb_sb_noss_1'\n",
    "\n",
    "HEADERS = ({'User-Agent': User_Agent, 'Accept-Language': 'en-US, en:q=0.5'})\n",
    "webpage = requests.get(URL, headers=HEADERS)"
   ]
  },
  {
   "cell_type": "markdown",
   "metadata": {},
   "source": [
    "<h3>Functions to extract meta data</h3>"
   ]
  },
  {
   "cell_type": "code",
   "execution_count": null,
   "metadata": {},
   "outputs": [],
   "source": [
    "def get_product_name(soup):\n",
    "  try:\n",
    "    title = soup.find('span', attrs={'id':'productTitle'})\n",
    "    title_value = title.text\n",
    "    title_string = title_value.strip()\n",
    "\n",
    "  except AttributeError:\n",
    "    title_string = ''\n",
    "  \n",
    "  return title_string\n",
    "\n",
    "def get_product_price(soup):\n",
    "  try:\n",
    "    price = soup.find('span', attrs={'class':'a-price aok-align-center'}).string.strip()\n",
    "\n",
    "  except AttributeError:\n",
    "    try:\n",
    "      price = soup.find('span', attrs={'class':'a-price aok-align-center reinventPricePriceToPayMargin priceToPay'}).string.strip()\n",
    "    except:\n",
    "      price = ''\n",
    "\n",
    "  return price\n",
    "\n",
    "def get_available_stock(soup):\n",
    "  try:\n",
    "    available_stock = soup.find('div', attrs={'class': 'a-section a-spacing-base a-spacing-top-micro'}).string.strip()\n",
    "  except AttributeError:\n",
    "    available_stock = ''\n",
    "  \n",
    "  return available_stock"
   ]
  }
 ],
 "metadata": {
  "kernelspec": {
   "display_name": "venv-py-projects",
   "language": "python",
   "name": "python3"
  },
  "language_info": {
   "codemirror_mode": {
    "name": "ipython",
    "version": 3
   },
   "file_extension": ".py",
   "mimetype": "text/x-python",
   "name": "python",
   "nbconvert_exporter": "python",
   "pygments_lexer": "ipython3",
   "version": "3.10.7"
  }
 },
 "nbformat": 4,
 "nbformat_minor": 2
}
