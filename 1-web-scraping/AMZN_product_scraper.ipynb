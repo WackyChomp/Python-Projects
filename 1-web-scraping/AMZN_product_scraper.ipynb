{
 "cells": [
  {
   "cell_type": "code",
   "execution_count": 1,
   "metadata": {},
   "outputs": [],
   "source": [
    "# Imports\n",
    "from bs4 import BeautifulSoup\n",
    "import requests\n",
    "import pandas as pd\n",
    "\n",
    "# Loading environment variable\n",
    "import os\n",
    "from dotenv import load_dotenv\n",
    "load_dotenv()\n",
    "User_Agent = os.environ.get('USER_AGENT')"
   ]
  },
  {
   "cell_type": "code",
   "execution_count": 2,
   "metadata": {},
   "outputs": [],
   "source": [
    "# URL is based on search results page\n",
    "URL = 'https://www.amazon.com/s?k=fidget+spinner&crid=1B26YBXIB4M79&sprefix=fidget+spinner%2Caps%2C84&ref=nb_sb_noss_1'\n",
    "\n",
    "HEADERS = ({'User-Agent': User_Agent, 'Accept-Language': 'en-US, en:q=0.5'})\n",
    "webpage = requests.get(URL, headers=HEADERS)"
   ]
  },
  {
   "cell_type": "code",
   "execution_count": 3,
   "metadata": {},
   "outputs": [
    {
     "data": {
      "text/plain": [
       "bytes"
      ]
     },
     "execution_count": 3,
     "metadata": {},
     "output_type": "execute_result"
    }
   ],
   "source": [
    "# webpage.content\n",
    "type(webpage.content)"
   ]
  },
  {
   "cell_type": "code",
   "execution_count": null,
   "metadata": {},
   "outputs": [],
   "source": [
    "example_soup = BeautifulSoup(webpage.content, 'html.parser')\n",
    "example_soup"
   ]
  },
  {
   "cell_type": "code",
   "execution_count": 5,
   "metadata": {},
   "outputs": [
    {
     "data": {
      "text/plain": [
       "[<a class=\"a-link-normal s-underline-text s-underline-link-text s-link-style a-text-normal\" href=\"/sspa/click?ie=UTF8&amp;spc=MTo3MjI2MTk2NjU1NzI4Njg0OjE3MDAxMDc3ODE6c3BfYXRmOjIwMDA0MjU3MDgwOTY5ODo6MDo6&amp;url=%2FBeavo-Nebula-Orb-Toy-Hover-Controller-Spinner-Mini%2Fdp%2FB09NLPL4TM%2Fref%3Dsr_1_1_sspa%3Fcrid%3D1B26YBXIB4M79%26keywords%3Dfidget%2Bspinner%26qid%3D1700107781%26sprefix%3Dfidget%2Bspinner%252Caps%252C84%26sr%3D8-1-spons%26sp_csd%3Dd2lkZ2V0TmFtZT1zcF9hdGY%26psc%3D1\"><span class=\"a-size-base-plus a-color-base a-text-normal\">Beavo Flying Orb Ball Toy Hover Ball Cool Magic Controller Spinner Mini Drone, Flying Orbi Ball, Floating Ball Toys,Galactic Fidget Spinner Ball for Kids Adults Boomerang Ball Indoor Outdoor</span> </a>,\n",
       " <a class=\"a-link-normal s-underline-text s-underline-link-text s-link-style a-text-normal\" href=\"/sspa/click?ie=UTF8&amp;spc=MTo3MjI2MTk2NjU1NzI4Njg0OjE3MDAxMDc3ODE6c3BfYXRmOjMwMDA4ODQ4NjQ0NDAwMjo6MDo6&amp;url=%2FUpgraded-Controlled-Boomerang-Spinner-360%25C2%25B0Rotating%2Fdp%2FB09PMVBFLM%2Fref%3Dsr_1_2_sspa%3Fcrid%3D1B26YBXIB4M79%26keywords%3Dfidget%2Bspinner%26qid%3D1700107781%26sprefix%3Dfidget%2Bspinner%252Caps%252C84%26sr%3D8-2-spons%26sp_csd%3Dd2lkZ2V0TmFtZT1zcF9hdGY%26psc%3D1\"><span class=\"a-size-base-plus a-color-base a-text-normal\">PITKLG Flying Ball Toys 2023 Upgraded Hand Controlled Flying Orb RGB Led Lights Boomerang Spinner 360°Rotating Soaring UFO Mini Drone Toy Safe for Kids Adults(Blue)</span> </a>,\n",
       " <a class=\"a-link-normal s-underline-text s-underline-link-text s-link-style a-text-normal\" href=\"/sspa/click?ie=UTF8&amp;spc=MTo3MjI2MTk2NjU1NzI4Njg0OjE3MDAxMDc3ODE6c3BfYXRmOjIwMDE2NjgwODg0NDc5ODo6MDo6&amp;url=%2FUltra-Durable-Spinners-Stainless-Bearings-Reduction%2Fdp%2FB0BXKCWYVN%2Fref%3Dsr_1_3_sspa%3Fcrid%3D1B26YBXIB4M79%26keywords%3Dfidget%2Bspinner%26qid%3D1700107781%26sprefix%3Dfidget%2Bspinner%252Caps%252C84%26sr%3D8-3-spons%26sp_csd%3Dd2lkZ2V0TmFtZT1zcF9hdGY%26psc%3D1\"><span class=\"a-size-base-plus a-color-base a-text-normal\">Jawhcok 15-Pack Ultra-Durable Fidget Spinners with Stainless Steel Bearings for Stress Reduction, Anxiety Relief, and Focus - Perfect Party Favors and Time-Killing Toys for Autism and ADHD</span> </a>,\n",
       " <a class=\"a-link-normal s-underline-text s-underline-link-text s-link-style a-text-normal\" href=\"/sspa/click?ie=UTF8&amp;spc=MTo3MjI2MTk2NjU1NzI4Njg0OjE3MDAxMDc3ODE6c3BfYXRmOjIwMDEwODg3MzMwODE5ODo6MDo6&amp;url=%2FAutistic-Children-Classroom-Treasure-Carnival%2Fdp%2FB09Z2JWYPF%2Fref%3Dsr_1_4_sspa%3Fcrid%3D1B26YBXIB4M79%26keywords%3Dfidget%2Bspinner%26qid%3D1700107781%26sprefix%3Dfidget%2Bspinner%252Caps%252C84%26sr%3D8-4-spons%26sp_csd%3Dd2lkZ2V0TmFtZT1zcF9hdGY%26psc%3D1\"><span class=\"a-size-base-plus a-color-base a-text-normal\">Fidget Toys Set, 70 Pack Sensory Toys Party Favors Kids Autism Autistic Children, Classroom Treasure Box Chest Prizes Pinata Stuffer Gifts Small Mini Bulk Toy Carnival ADHD</span> </a>,\n",
       " <a class=\"a-link-normal s-underline-text s-underline-link-text s-link-style a-text-normal\" href=\"/SCIONE-Spinners-Adults-Sensory-Packs-ADHD-Anxiety/dp/B071KZS7H1/ref=sr_1_5?crid=1B26YBXIB4M79&amp;keywords=fidget+spinner&amp;qid=1700107781&amp;sprefix=fidget+spinner%2Caps%2C84&amp;sr=8-5\"><span class=\"a-size-base-plus a-color-base a-text-normal\">SCIONE Fidget Spinners Toys 5 Pack, Sensory Hand Fidget Pack Bulk, Anxiety Toys Stress Relief Reducer, Party Favors for Kids Adults Goodie Bag Stuffers, Kids Classroom Prizes</span> </a>,\n",
       " <a class=\"a-link-normal s-underline-text s-underline-link-text s-link-style a-text-normal\" href=\"/ATESSON-Spinner-Stainless-Precision-Material/dp/B06XQ3GGHY/ref=sr_1_6?crid=1B26YBXIB4M79&amp;keywords=fidget+spinner&amp;qid=1700107781&amp;sprefix=fidget+spinner%2Caps%2C84&amp;sr=8-6\"><span class=\"a-size-base-plus a-color-base a-text-normal\">ATESSON Fidget Spinner Toy Ultra Durable Stainless Steel Bearing High Speed 2-5 Min Spins Precision Brass Material Hand spinner EDC ADHD Focus Anxiety Stress Relief Boredom Killing Time Toys</span> </a>,\n",
       " <a class=\"a-link-normal s-underline-text s-underline-link-text s-link-style a-text-normal\" href=\"/FIGROL-Fidget-Spinner-Adults-Crystal/dp/B07214DFMY/ref=sr_1_7?crid=1B26YBXIB4M79&amp;keywords=fidget+spinner&amp;qid=1700107781&amp;sprefix=fidget+spinner%2Caps%2C84&amp;sr=8-7\"><span class=\"a-size-base-plus a-color-base a-text-normal\">Fidget Spinner, Thanksgiving Christmas Led Light Crystal Finger Toy, Hand Spinner for Kids, ADHD Anxiety Stress Reducer(Dark Blue)</span> </a>,\n",
       " <a class=\"a-link-normal s-underline-text s-underline-link-text s-link-style a-text-normal\" href=\"/sspa/click?ie=UTF8&amp;spc=MTo2NDcwNzAzMDk5NjA3Njg0OjE3MDAxMDc3ODE6c3Bfc2VhcmNoX3RoZW1hdGljOjMwMDA1ODc3Njg3NjEwMjo6MDo6&amp;url=%2FMjolnir-Keychain-Spinner-Stainless-Fingertip%2Fdp%2FB077KFDYMX%2Fref%3Dsxin_17_pa_sp_search_thematic_sspa%3Fcontent-id%3Damzn1.sym.9e5188ef-9cc8-48bb-b834-24761033aedf%253Aamzn1.sym.9e5188ef-9cc8-48bb-b834-24761033aedf%26crid%3D1B26YBXIB4M79%26cv_ct_cx%3Dfidget%2Bspinner%26keywords%3Dfidget%2Bspinner%26pd_rd_i%3DB077KFDYMX%26pd_rd_r%3D82f527ff-e73e-4969-8580-e8078bed9adb%26pd_rd_w%3DySvsZ%26pd_rd_wg%3D0PQds%26pf_rd_p%3D9e5188ef-9cc8-48bb-b834-24761033aedf%26pf_rd_r%3DYCCSW9ZVFCF3S8F2YFS6%26qid%3D1700107781%26sbo%3DRZvfv%252F%252FHxDF%252BO5021pAnSA%253D%253D%26sprefix%3Dfidget%2Bspinner%252Caps%252C84%26sr%3D1-1-364cf978-ce2a-480a-9bb0-bdb96faa0f61-spons%26sp_csd%3Dd2lkZ2V0TmFtZT1zcF9zZWFyY2hfdGhlbWF0aWM%26psc%3D1\"><span class=\"a-size-base-plus a-color-base a-text-normal\">Cool Thor Hammer Fidget Spinners Toy Metal For Kids Adults, Brass Hand Finger Spinner keychain, Transformable Infinity Cube Fingertip Gyro Desk Toy Goody Bag Filler Party Favors Novelty Gift 2 Pack</span> </a>,\n",
       " <a class=\"a-link-normal s-underline-text s-underline-link-text s-link-style a-text-normal\" href=\"/sspa/click?ie=UTF8&amp;spc=MTo2NDcwNzAzMDk5NjA3Njg0OjE3MDAxMDc3ODE6c3Bfc2VhcmNoX3RoZW1hdGljOjMwMDAyNDk4MjE4MjcwMjo6MTo6&amp;url=%2FFIGROL-Spinner-Crystal-Spinners-Kids-Reducing%2Fdp%2FB08YX8JXMV%2Fref%3Dsxin_17_pa_sp_search_thematic_sspa%3Fcontent-id%3Damzn1.sym.9e5188ef-9cc8-48bb-b834-24761033aedf%253Aamzn1.sym.9e5188ef-9cc8-48bb-b834-24761033aedf%26crid%3D1B26YBXIB4M79%26cv_ct_cx%3Dfidget%2Bspinner%26keywords%3Dfidget%2Bspinner%26pd_rd_i%3DB08YX8JXMV%26pd_rd_r%3D82f527ff-e73e-4969-8580-e8078bed9adb%26pd_rd_w%3DySvsZ%26pd_rd_wg%3D0PQds%26pf_rd_p%3D9e5188ef-9cc8-48bb-b834-24761033aedf%26pf_rd_r%3DYCCSW9ZVFCF3S8F2YFS6%26qid%3D1700107781%26sbo%3DRZvfv%252F%252FHxDF%252BO5021pAnSA%253D%253D%26sprefix%3Dfidget%2Bspinner%252Caps%252C84%26sr%3D1-2-364cf978-ce2a-480a-9bb0-bdb96faa0f61-spons%26sp_csd%3Dd2lkZ2V0TmFtZT1zcF9zZWFyY2hfdGhlbWF0aWM%26psc%3D1\"><span class=\"a-size-base-plus a-color-base a-text-normal\">FIGROL 2 Pack LED Light Fidget Spinners, Thanksgiving Christmas Crystal Finger Toy Gift for Children, Reducing Boredom ADHD, Anxiety(Red&amp;Blue)</span> </a>,\n",
       " <a class=\"a-link-normal s-underline-text s-underline-link-text s-link-style a-text-normal\" href=\"/sspa/click?ie=UTF8&amp;spc=MTo2NDcwNzAzMDk5NjA3Njg0OjE3MDAxMDc3ODE6c3Bfc2VhcmNoX3RoZW1hdGljOjMwMDA1OTI0Mjg3NTIwMjo6Mjo6&amp;url=%2FPhoenix-Spinner-Stainless-Fingertip-Rainbow%2Fdp%2FB077K8WM8F%2Fref%3Dsxin_17_pa_sp_search_thematic_sspa%3Fcontent-id%3Damzn1.sym.9e5188ef-9cc8-48bb-b834-24761033aedf%253Aamzn1.sym.9e5188ef-9cc8-48bb-b834-24761033aedf%26crid%3D1B26YBXIB4M79%26cv_ct_cx%3Dfidget%2Bspinner%26keywords%3Dfidget%2Bspinner%26pd_rd_i%3DB077K8WM8F%26pd_rd_r%3D82f527ff-e73e-4969-8580-e8078bed9adb%26pd_rd_w%3DySvsZ%26pd_rd_wg%3D0PQds%26pf_rd_p%3D9e5188ef-9cc8-48bb-b834-24761033aedf%26pf_rd_r%3DYCCSW9ZVFCF3S8F2YFS6%26qid%3D1700107781%26sbo%3DRZvfv%252F%252FHxDF%252BO5021pAnSA%253D%253D%26sprefix%3Dfidget%2Bspinner%252Caps%252C84%26sr%3D1-3-364cf978-ce2a-480a-9bb0-bdb96faa0f61-spons%26sp_csd%3Dd2lkZ2V0TmFtZT1zcF9zZWFyY2hfdGhlbWF0aWM%26psc%3D1\"><span class=\"a-size-base-plus a-color-base a-text-normal\">Phoenix Cool Fidget Hand Spinners Dragon Wing Finger Spinner Metal Focus Stainless Steel Fingertip Gyro Stress Relief Spiral Twister Toy Party Favors Birthday Gift for Kids Adults(Rainbow)</span> </a>,\n",
       " <a class=\"a-link-normal s-underline-text s-underline-link-text s-link-style a-text-normal\" href=\"/sspa/click?ie=UTF8&amp;spc=MTo2NDcwNzAzMDk5NjA3Njg0OjE3MDAxMDc3ODE6c3Bfc2VhcmNoX3RoZW1hdGljOjIwMDA1MjA2MzU4MDE1MTo6Mzo6&amp;url=%2FFidget-Spinner-Sensory-Stainless-Bearing%2Fdp%2FB08HRTXPNK%2Fref%3Dsxin_17_pa_sp_search_thematic_sspa%3Fcontent-id%3Damzn1.sym.9e5188ef-9cc8-48bb-b834-24761033aedf%253Aamzn1.sym.9e5188ef-9cc8-48bb-b834-24761033aedf%26crid%3D1B26YBXIB4M79%26cv_ct_cx%3Dfidget%2Bspinner%26keywords%3Dfidget%2Bspinner%26pd_rd_i%3DB08HRTXPNK%26pd_rd_r%3D82f527ff-e73e-4969-8580-e8078bed9adb%26pd_rd_w%3DySvsZ%26pd_rd_wg%3D0PQds%26pf_rd_p%3D9e5188ef-9cc8-48bb-b834-24761033aedf%26pf_rd_r%3DYCCSW9ZVFCF3S8F2YFS6%26qid%3D1700107781%26sbo%3DRZvfv%252F%252FHxDF%252BO5021pAnSA%253D%253D%26sprefix%3Dfidget%2Bspinner%252Caps%252C84%26sr%3D1-4-364cf978-ce2a-480a-9bb0-bdb96faa0f61-spons%26sp_csd%3Dd2lkZ2V0TmFtZT1zcF9zZWFyY2hfdGhlbWF0aWM%26psc%3D1\"><span class=\"a-size-base-plus a-color-base a-text-normal\">Cool Alloy Fidget Spinner Metal Toy for Kids Adults, Fidget Cube Chain Toys Small Sensory Gadget Finger Hand Spinner Focus Desk Spining Top Toy Party Favors Prizes Goody Bag Fillers Novelty Gift</span> </a>,\n",
       " <a class=\"a-link-normal s-underline-text s-underline-link-text s-link-style a-text-normal\" href=\"/sspa/click?ie=UTF8&amp;spc=MTo2NDcwNzAzMDk5NjA3Njg0OjE3MDAxMDc3ODE6c3Bfc2VhcmNoX3RoZW1hdGljOjIwMDAzNzg4MzE2MDc5ODo6NDo6&amp;url=%2FFIGROL-Spinner-Rainbow-Crystal-Reduction%2Fdp%2FB09KX4V43G%2Fref%3Dsxin_17_pa_sp_search_thematic_sspa%3Fcontent-id%3Damzn1.sym.9e5188ef-9cc8-48bb-b834-24761033aedf%253Aamzn1.sym.9e5188ef-9cc8-48bb-b834-24761033aedf%26crid%3D1B26YBXIB4M79%26cv_ct_cx%3Dfidget%2Bspinner%26keywords%3Dfidget%2Bspinner%26pd_rd_i%3DB09KX4V43G%26pd_rd_r%3D82f527ff-e73e-4969-8580-e8078bed9adb%26pd_rd_w%3DySvsZ%26pd_rd_wg%3D0PQds%26pf_rd_p%3D9e5188ef-9cc8-48bb-b834-24761033aedf%26pf_rd_r%3DYCCSW9ZVFCF3S8F2YFS6%26qid%3D1700107781%26sbo%3DRZvfv%252F%252FHxDF%252BO5021pAnSA%253D%253D%26sprefix%3Dfidget%2Bspinner%252Caps%252C84%26sr%3D1-5-364cf978-ce2a-480a-9bb0-bdb96faa0f61-spons%26sp_csd%3Dd2lkZ2V0TmFtZT1zcF9zZWFyY2hfdGhlbWF0aWM%26psc%3D1\"><span class=\"a-size-base-plus a-color-base a-text-normal\">FIGROL 3 Pack Led Light Fidget Spinners, Thanksgiving Christmas Crystal Finger Toy Gift for Children, Stress Reduction and Anxiety Relief Hand Spinners</span> </a>,\n",
       " <a class=\"a-link-normal s-underline-text s-underline-link-text s-link-style a-text-normal\" href=\"/Abodhu-Spinner-Sensory-Popping-Spinners/dp/B091748RHH/ref=sr_1_8?crid=1B26YBXIB4M79&amp;keywords=fidget+spinner&amp;qid=1700107781&amp;sprefix=fidget+spinner%2Caps%2C84&amp;sr=8-8\"><span class=\"a-size-base-plus a-color-base a-text-normal\">Fidget Spinners 7 Pack, Tie Dye Popper Small Fidget Toys Bulk Present for Teen, Goodie Bag Stuffers Return Gifts Birthday Party Favors Classroom Carnival Prize for Kids Boys Girls</span> </a>,\n",
       " <a class=\"a-link-normal s-underline-text s-underline-link-text s-link-style a-text-normal\" href=\"/ATESSON-Spinner-Durable-Bearing-Spinners/dp/B08HYXP24Q/ref=sr_1_9?crid=1B26YBXIB4M79&amp;keywords=fidget+spinner&amp;qid=1700107781&amp;sprefix=fidget+spinner%2Caps%2C84&amp;sr=8-9\"><span class=\"a-size-base-plus a-color-base a-text-normal\">ATESSON Fidget Spinner Toys, Durable High Speed Bearing Metal Hand Finger Spinners EDC ADHD Focus Anxiety Stress Relief Boredom Killing Time Toys for Kids Adults</span> </a>,\n",
       " <a class=\"a-link-normal s-underline-text s-underline-link-text s-link-style a-text-normal\" href=\"/Spinners-Deformable-Fingertip-Decompression-Mechanical/dp/B09LS2Q3FQ/ref=sr_1_10?crid=1B26YBXIB4M79&amp;keywords=fidget+spinner&amp;qid=1700107781&amp;sprefix=fidget+spinner%2Caps%2C84&amp;sr=8-10\"><span class=\"a-size-base-plus a-color-base a-text-normal\">3Pcs Fidget Spinners,DIY Deformable Robot Fingertip Toys,Decompression Spinner,Deformable Creative Mechanical Gyro Toys,Stress Relief Mechanical Chain Toy for Kids Adults</span> </a>,\n",
       " <a class=\"a-link-normal s-underline-text s-underline-link-text s-link-style a-text-normal\" href=\"/sspa/click?ie=UTF8&amp;spc=MTo3MjI2MTk2NjU1NzI4Njg0OjE3MDAxMDc3ODE6c3BfbXRmOjIwMDExOTc1ODc1NDk5ODo6MDo6&amp;url=%2FJOEYANK-Fidget-Cube-Version-Finger%2Fdp%2FB074J6KPWD%2Fref%3Dsr_1_11_sspa%3Fcrid%3D1B26YBXIB4M79%26keywords%3Dfidget%2Bspinner%26qid%3D1700107781%26sprefix%3Dfidget%2Bspinner%252Caps%252C84%26sr%3D8-11-spons%26sp_csd%3Dd2lkZ2V0TmFtZT1zcF9tdGY%26psc%3D1\"><span class=\"a-size-base-plus a-color-base a-text-normal\">JOEYANK Fidget Cube New Version Fidget Finger Toys - Metal Infinity Cube Prime for Stress and Anxiety Relief/ADHD, Ultra Durable Sensory Gifts for Adults and Teens Kids</span> </a>,\n",
       " <a class=\"a-link-normal s-underline-text s-underline-link-text s-link-style a-text-normal\" href=\"/sspa/click?ie=UTF8&amp;spc=MTo3MjI2MTk2NjU1NzI4Njg0OjE3MDAxMDc3ODE6c3BfbXRmOjIwMDExMjM3ODEyNDE5ODo6MDo6&amp;url=%2FSpinners-Deformable-Fingertip-Decompression-Mechanical%2Fdp%2FB09M3X21X6%2Fref%3Dsr_1_12_sspa%3Fcrid%3D1B26YBXIB4M79%26keywords%3Dfidget%2Bspinner%26qid%3D1700107781%26sprefix%3Dfidget%2Bspinner%252Caps%252C84%26sr%3D8-12-spons%26sp_csd%3Dd2lkZ2V0TmFtZT1zcF9tdGY%26psc%3D1\"><span class=\"a-size-base-plus a-color-base a-text-normal\">6Pcs Fidget Spinners,DIY Deformable Robot Fingertip Toys,Decompression Spinner,Deformable Creative Mechanical Gyro Toys,Stress Relief Mechanical Chain Toy for Kids Adults</span> </a>,\n",
       " <a class=\"a-link-normal s-underline-text s-underline-link-text s-link-style a-text-normal\" href=\"/sspa/click?ie=UTF8&amp;spc=MTo3MjI2MTk2NjU1NzI4Njg0OjE3MDAxMDc3ODE6c3BfbXRmOjIwMDA0NzQ0NTkwODUxMTo6MDo6&amp;url=%2FLAFALInK-Spinners-Spinner-Stainless-Bearing%2Fdp%2FB08LGM1NSK%2Fref%3Dsr_1_13_sspa%3Fcrid%3D1B26YBXIB4M79%26keywords%3Dfidget%2Bspinner%26qid%3D1700107781%26sprefix%3Dfidget%2Bspinner%252Caps%252C84%26sr%3D8-13-spons%26sp_csd%3Dd2lkZ2V0TmFtZT1zcF9tdGY%26psc%3D1\"><span class=\"a-size-base-plus a-color-base a-text-normal\">Fidget Spinners, Fidget Spinner Toy Gifts for Adults and Kids,Flying Fidget Spinners Stainless Steel Bearing 5-8 Min High Speed Spin,Stress Anxiety ADHD Relief Figets Toy Killing Time</span> </a>,\n",
       " <a class=\"a-link-normal s-underline-text s-underline-link-text s-link-style a-text-normal\" href=\"/sspa/click?ie=UTF8&amp;spc=MTo3MjI2MTk2NjU1NzI4Njg0OjE3MDAxMDc3ODE6c3BfbXRmOjIwMDE1NjA2MTUzMTQ5ODo6MDo6&amp;url=%2FDjuiinoStar-Machined-Freestyle-Lightweight-Addictive%2Fdp%2FB0BZP34ZJB%2Fref%3Dsr_1_14_sspa%3Fcrid%3D1B26YBXIB4M79%26keywords%3Dfidget%2Bspinner%26qid%3D1700107781%26sprefix%3Dfidget%2Bspinner%252Caps%252C84%26sr%3D8-14-spons%26sp_csd%3Dd2lkZ2V0TmFtZT1zcF9tdGY%26psc%3D1\"><span class=\"a-size-base-plus a-color-base a-text-normal\">DjuiinoStar Fidget Slider (Genuine Carbon Fiber), CNC Machined Freestyle Push Slider, Big&amp;Lightweight, Easy to Play Tricks, Addictive Fidget Toy, Help to Relief Stress, Best Gift for Him DFS-28</span> </a>,\n",
       " <a class=\"a-link-normal s-underline-text s-underline-link-text s-link-style a-text-normal\" href=\"/Jawhock-Spinner-Reduction-Anxiety-Children/dp/B09SH2N8PR/ref=sr_1_15?crid=1B26YBXIB4M79&amp;keywords=fidget+spinner&amp;qid=1700107781&amp;sprefix=fidget+spinner%2Caps%2C84&amp;sr=8-15\"><span class=\"a-size-base-plus a-color-base a-text-normal\">Jawhock Fidget Spinner 2 Pack, Stress Reduction and Anxiety Relief Hand Spinner Ultra Durable Stainless Steel Bearing, Best Autism Finger Spinner Focus Party Favor Killing Time Toy</span> </a>,\n",
       " <a class=\"a-link-normal s-underline-text s-underline-link-text s-link-style a-text-normal\" href=\"/SCIONE-Metal-Stainless-Spinners-Fidgeting/dp/B075F1QH4G/ref=sr_1_16?crid=1B26YBXIB4M79&amp;keywords=fidget+spinner&amp;qid=1700107781&amp;sprefix=fidget+spinner%2Caps%2C84&amp;sr=8-16\"><span class=\"a-size-base-plus a-color-base a-text-normal\">SCIONE Metal Fidget Spinner for Kid Adult, Sensory Hand Fidget Toy 5 Pack-Anxiety Toys Stress Relief Reducer- Party Favors for Kid Adult, Goodie Bag Stuffers, Classroom Prizes, Party Favors Supplies</span> </a>,\n",
       " <a class=\"a-link-normal s-underline-text s-underline-link-text s-link-style a-text-normal\" href=\"https://aax-us-iad.amazon.com/x/c/RBYNi9_yOmr0gWEN9jEuSoQAAAGL1lID1gEAAAH2AQBvbm9fdHhuX2JpZDQgICBvbm9fdHhuX2ltcDEgICBWq1T1/https://www.amazon.com/ONO-Roller-Jr-Black-Promoting/dp/B097SVCQ11/ref=sxin_25_sbv_search_btf?content-id=amzn1.sym.5795aee5-71f0-4369-b632-e8c78407f2cf%3Aamzn1.sym.5795aee5-71f0-4369-b632-e8c78407f2cf&amp;crid=1B26YBXIB4M79&amp;cv_ct_cx=fidget+spinner&amp;keywords=fidget+spinner&amp;pd_rd_i=B097SVCQ11&amp;pd_rd_r=82f527ff-e73e-4969-8580-e8078bed9adb&amp;pd_rd_w=1G0VX&amp;pd_rd_wg=0PQds&amp;pf_rd_p=5795aee5-71f0-4369-b632-e8c78407f2cf&amp;pf_rd_r=YCCSW9ZVFCF3S8F2YFS6&amp;qid=1700107781&amp;sbo=RZvfv%2F%2FHxDF%2BO5021pAnSA%3D%3D&amp;sprefix=fidget+spinner%2Caps%2C84&amp;sr=1-1-5190daf0-67e3-427c-bea6-c72c1df98776\"><span class=\"a-size-medium a-color-base a-text-normal\">ONO Roller - Handheld Fidget Toy for Adults | Help Relieve Stress, Anxiety, Tension | Promotes Focus, Clarity | Compact, Portable Design (Junior Size/ABS Plastic, Black)</span> </a>,\n",
       " <a class=\"a-link-normal s-underline-text s-underline-link-text s-link-style a-text-normal\" href=\"/ATESSON-Spinner-Stainless-Precision-Material/dp/B071Z68LGL/ref=sr_1_17?crid=1B26YBXIB4M79&amp;keywords=fidget+spinner&amp;qid=1700107781&amp;sprefix=fidget+spinner%2Caps%2C84&amp;sr=8-17\"><span class=\"a-size-base-plus a-color-base a-text-normal\">ATESSON Fidget Spinner Toy Ultra Durable Stainless Steel Bearing High Speed Precision Metal Material Hand Spinner Focus Anxiety Stress Relief Boredom Killing Time Toys Silver</span> </a>,\n",
       " <a class=\"a-link-normal s-underline-text s-underline-link-text s-link-style a-text-normal\" href=\"/ATESSON-Spinner-Stainless-Precision-Relieves/dp/B0BWQ2X329/ref=sr_1_18?crid=1B26YBXIB4M79&amp;keywords=fidget+spinner&amp;qid=1700107781&amp;sprefix=fidget+spinner%2Caps%2C84&amp;sr=8-18\"><span class=\"a-size-base-plus a-color-base a-text-normal\">ATESSON Fidget Spinner Toy, Ultra Durable Stainless Steel Bearing High Speed 3-5 Min Precision Brass Metal Finger Spinner, EDC ADHD Stress Relief Anxiety Relieves Reducer for Kids and Adults</span> </a>,\n",
       " <a class=\"a-link-normal s-underline-text s-underline-link-text s-link-style a-text-normal\" href=\"/sspa/click?ie=UTF8&amp;spc=MTo3MjI2MTk2NjU1NzI4Njg0OjE3MDAxMDc3ODE6c3BfbXRmOjMwMDA1MTQ3MTQzMDUwMjo6MDo6&amp;url=%2FPieces-Spinner-Spinners-Fingertip-Anxiety%2Fdp%2FB0CB7R26N8%2Fref%3Dsr_1_19_sspa%3Fcrid%3D1B26YBXIB4M79%26keywords%3Dfidget%2Bspinner%26qid%3D1700107781%26sprefix%3Dfidget%2Bspinner%252Caps%252C84%26sr%3D8-19-spons%26sp_csd%3Dd2lkZ2V0TmFtZT1zcF9tdGY%26psc%3D1\"><span class=\"a-size-base-plus a-color-base a-text-normal\">3 Pieces Dragon Spinner Metal Spinners Cool Fingertip Spinners Finger Spinner for Anxiety Stress Party Favor (Gold)</span> </a>,\n",
       " <a class=\"a-link-normal s-underline-text s-underline-link-text s-link-style a-text-normal\" href=\"/sspa/click?ie=UTF8&amp;spc=MTo3MjI2MTk2NjU1NzI4Njg0OjE3MDAxMDc3ODE6c3BfbXRmOjIwMDAzNzY5MzM0NzQ0MTo6MDo6&amp;url=%2FSpinner-Trispinner-Spinners-Fidgeting-Restless%2Fdp%2FB08HWCP1NT%2Fref%3Dsr_1_20_sspa%3Fcrid%3D1B26YBXIB4M79%26keywords%3Dfidget%2Bspinner%26qid%3D1700107781%26sprefix%3Dfidget%2Bspinner%252Caps%252C84%26sr%3D8-20-spons%26sp_csd%3Dd2lkZ2V0TmFtZT1zcF9tdGY%26psc%3D1\"><span class=\"a-size-base-plus a-color-base a-text-normal\">Dragon Fidget Spinner Anti Anxiety Toys Stress Relief Reducer Spin Fidgets Hand Bearing Metal Finger Spinners Toy Focus Fidgeting Restless Tri Spinner Best Novelty Gift for Adults Kids</span> </a>,\n",
       " <a class=\"a-link-normal s-underline-text s-underline-link-text s-link-style a-text-normal\" href=\"/sspa/click?ie=UTF8&amp;spc=MTo3MjI2MTk2NjU1NzI4Njg0OjE3MDAxMDc3ODE6c3BfbXRmOjIwMDA5NzUxNzMwNzc5ODo6MDo6&amp;url=%2FInteresting-Decompression-Zhaocaijingbao-Creative-Ornament%2Fdp%2FB0BD88HJ2P%2Fref%3Dsr_1_21_sspa%3Fcrid%3D1B26YBXIB4M79%26keywords%3Dfidget%2Bspinner%26qid%3D1700107781%26sprefix%3Dfidget%2Bspinner%252Caps%252C84%26sr%3D8-21-spons%26sp_csd%3Dd2lkZ2V0TmFtZT1zcF9tdGY%26psc%3D1\"><span class=\"a-size-base-plus a-color-base a-text-normal\">Lucky Fortune Fidget Spinner, Interesting Decompression Toy,Zhaocaijingbao Feng Shui Amulet Glow in The Dark Creative Small Ornament,Good Luck Gifts for Men, Women, Kids, Lovers with (Green)</span> </a>,\n",
       " <a class=\"a-link-normal s-underline-text s-underline-link-text s-link-style a-text-normal\" href=\"/sspa/click?ie=UTF8&amp;spc=MTo3MjI2MTk2NjU1NzI4Njg0OjE3MDAxMDc3ODE6c3BfbXRmOjMwMDAzMTk0MjEzNjEwMjo6MDo6&amp;url=%2FSensory-Squishy-Squeeze-Classroom-Birthday%2Fdp%2FB0C8HFFQLF%2Fref%3Dsr_1_22_sspa%3Fcrid%3D1B26YBXIB4M79%26keywords%3Dfidget%2Bspinner%26qid%3D1700107781%26sprefix%3Dfidget%2Bspinner%252Caps%252C84%26sr%3D8-22-spons%26sp_csd%3Dd2lkZ2V0TmFtZT1zcF9tdGY%26psc%3D1\"><span class=\"a-size-base-plus a-color-base a-text-normal\">20 Pack Mini Stress Balls Set, Bulk Sensory Squishy Toys Fidget Toys for Kids and Adults, Squeeze Balls to Relax, Fidget Stress Toys for Classroom Rewards, Party Favors,Birthday Gifts</span> </a>,\n",
       " <a class=\"a-link-normal s-underline-text s-underline-link-text s-link-style a-text-normal\" href=\"/Gigilli-Fidget-Spinners-Anxiety-Birthday/dp/B0993GD8DM/ref=sr_1_23?crid=1B26YBXIB4M79&amp;keywords=fidget+spinner&amp;qid=1700107781&amp;sprefix=fidget+spinner%2Caps%2C84&amp;sr=8-23\"><span class=\"a-size-base-plus a-color-base a-text-normal\">Gigilli Fidget Spinners 2 Pack, LED Light Up Fidget Toys for Kids and Adult, Christmas Goodie Bag Stocking Stuffers Glow in The Dark Sensory Toys, Classroom Prizes Birthday Return Gift for Kids 4-8-12</span> </a>,\n",
       " <a class=\"a-link-normal s-underline-text s-underline-link-text s-link-style a-text-normal\" href=\"/FIGROL-Spinner-Metal-Looking-Spinners-Rainbow/dp/B09532YJRQ/ref=sr_1_24?crid=1B26YBXIB4M79&amp;keywords=fidget+spinner&amp;qid=1700107781&amp;sprefix=fidget+spinner%2Caps%2C84&amp;sr=8-24\"><span class=\"a-size-base-plus a-color-base a-text-normal\">FIGROL 3 Pack Fidget Spinner, Party Favor Gifts for Kids Metal-Looking Fidget Spinners, Pop Bubble Rainbow Fidget Toys Spinners for ADHD Anxiety,Stress Relief Sensory Toy</span> </a>,\n",
       " <a class=\"a-link-normal s-underline-text s-underline-link-text s-link-style a-text-normal\" href=\"/FIGROL-Spinner-Crystal-Rainbow-Spinner-Kids/dp/B071SHLRXC/ref=sr_1_25?crid=1B26YBXIB4M79&amp;keywords=fidget+spinner&amp;qid=1700107781&amp;sprefix=fidget+spinner%2Caps%2C84&amp;sr=8-25\"><span class=\"a-size-base-plus a-color-base a-text-normal\">FIGROL LED Light Fidget Spinner, Light Fidget Finger Toy Hand Spinner -Stress Reduction and Anxiety Relief Hand Spinner for Children</span> </a>,\n",
       " <a class=\"a-link-normal s-underline-text s-underline-link-text s-link-style a-text-normal\" href=\"/SCIONE-Pack-Fidget-Spinners-Thanksgiving/dp/B08JYWH3CD/ref=sr_1_26?crid=1B26YBXIB4M79&amp;keywords=fidget+spinner&amp;qid=1700107781&amp;sprefix=fidget+spinner%2Caps%2C84&amp;sr=8-26\"><span class=\"a-size-base-plus a-color-base a-text-normal\">SCIONE 5 Pack Fidget Spinners - Led Light Up Fidget Spinner, Halloween Thanksgiving Goodie Bag Stuffers Glow in The Dark Sensory Toys, Stress Reduction and Anxiety Relief Hand Spinner for Kids</span> </a>,\n",
       " <a class=\"a-link-normal s-underline-text s-underline-link-text s-link-style a-text-normal\" href=\"/Spinner-Anxiety-Spinners-Fidgeting-Restless/dp/B08HWDXFMS/ref=sr_1_27?crid=1B26YBXIB4M79&amp;keywords=fidget+spinner&amp;qid=1700107781&amp;sprefix=fidget+spinner%2Caps%2C84&amp;sr=8-27\"><span class=\"a-size-base-plus a-color-base a-text-normal\">Umnodobn Gold Fidget Spinner Magic Orb Anxiety Toys Stress Relief Reducer Spin Fidgets Hand Bearing Tri Spinner Finger Spinners Toy Focus Fidgeting Restless Novelty Gift for Adults Kids</span> </a>,\n",
       " <a class=\"a-link-normal s-underline-text s-underline-link-text s-link-style a-text-normal\" href=\"/Spinners-Spinner-Anxiety-Luminous-Release/dp/B07WDNSK5T/ref=sr_1_28?crid=1B26YBXIB4M79&amp;keywords=fidget+spinner&amp;qid=1700107781&amp;sprefix=fidget+spinner%2Caps%2C84&amp;sr=8-28\"><span class=\"a-size-base-plus a-color-base a-text-normal\">Fidget Spinners, Spinner Gifts for Adults and Kids, Stress Anxiety ADHD Relief Figets Toy, Metal Finger Hand Toy with Luminous Light, Absorb Solar Light Then Release in Dark</span> </a>,\n",
       " <a class=\"a-link-normal s-underline-text s-underline-link-text s-link-style a-text-normal\" href=\"/Spinner-Anxiety-Relief-Stuffers-Birthday/dp/B097GWG82D/ref=sr_1_29?crid=1B26YBXIB4M79&amp;keywords=fidget+spinner&amp;qid=1700107781&amp;sprefix=fidget+spinner%2Caps%2C84&amp;sr=8-29\"><span class=\"a-size-base-plus a-color-base a-text-normal\">6 Pack Fidget Spinners- Goodie Bag Stuffers Graduation Return Gifts Birthday Party Favors Classroom Carnival Prize for Kids Boys Girls- Tie Dye Popper Small Fidget Toys Bulk Present for Teen</span> </a>,\n",
       " <a class=\"a-link-normal s-underline-text s-underline-link-text s-link-style a-text-normal\" href=\"/Spinner-Trispinner-Spinners-Fidgeting-Restless/dp/B08HWF2F9F/ref=sr_1_30?crid=1B26YBXIB4M79&amp;keywords=fidget+spinner&amp;qid=1700107781&amp;sprefix=fidget+spinner%2Caps%2C84&amp;sr=8-30\"><span class=\"a-size-base-plus a-color-base a-text-normal\">Dragon Fidget Spinner Anti Anxiety Toys Stress Relief Reducer Spin Fidgets Finger Hand Bearing Finger Spinners Toy Focus Fidgeting Restless Tri Spinner Best Novelty Gift for Adults Kids</span> </a>,\n",
       " <a class=\"a-link-normal s-underline-text s-underline-link-text s-link-style a-text-normal\" href=\"/SCIONE-Pack-Anxiety-Reducer-Stuffers-Classroom/dp/B0736QSNHY/ref=sr_1_31?crid=1B26YBXIB4M79&amp;keywords=fidget+spinner&amp;qid=1700107781&amp;sprefix=fidget+spinner%2Caps%2C84&amp;sr=8-31\"><span class=\"a-size-base-plus a-color-base a-text-normal\">SCIONE Metal Fidget Spinner for Kid Adult,Sensory Hand Fidget Toy 7 Pack-Anxiety Toys Stress Relief Reducer-Party Favors,Return Gifts for Kids Birthday,Goodie Bag Stuffers,Classroom Prizes</span> </a>,\n",
       " <a class=\"a-link-normal s-underline-text s-underline-link-text s-link-style a-text-normal\" href=\"/fidget-toys-adults-magnetic-rings-anxiety/dp/B09MHB5MTQ/ref=sr_1_32?crid=1B26YBXIB4M79&amp;keywords=fidget+spinner&amp;qid=1700107781&amp;sprefix=fidget+spinner%2Caps%2C84&amp;sr=8-32\"><span class=\"a-size-base-plus a-color-base a-text-normal\">BUNMO Magnetic Rings 3pk | Fidget Toys Adults | Hundreds of Tricks to Learn | Stocking Stuffers for Teens Adults Men | Fidget Spinner Fidgets | Boys Stocking Stuffers Ages 12-15</span> </a>,\n",
       " <a class=\"a-link-normal s-underline-text s-underline-link-text s-link-style a-text-normal\" href=\"/Phoenix-Spinner-Stainless-Fingertip-Rainbow/dp/B077K8WM8F/ref=sr_1_33?crid=1B26YBXIB4M79&amp;keywords=fidget+spinner&amp;qid=1700107781&amp;sprefix=fidget+spinner%2Caps%2C84&amp;sr=8-33\"><span class=\"a-size-base-plus a-color-base a-text-normal\">Phoenix Cool Fidget Hand Spinners Dragon Wing Finger Spinner Metal Focus Stainless Steel Fingertip Gyro Stress Relief Spiral Twister Toy Party Favors Birthday Gift for Kids Adults(Rainbow)</span> </a>,\n",
       " <a class=\"a-link-normal s-underline-text s-underline-link-text s-link-style a-text-normal\" href=\"/Dr-Kbder-Spinner-Kirsite-Relaxing-Boyfriend/dp/B0B1ZZPLN3/ref=sr_1_34?crid=1B26YBXIB4M79&amp;keywords=fidget+spinner&amp;qid=1700107781&amp;sprefix=fidget+spinner%2Caps%2C84&amp;sr=8-34\"><span class=\"a-size-base-plus a-color-base a-text-normal\">Dr.Kbder Fidget Spinner Toys Cube Adults, Metal EDC Figetsss Cool Desk Gadgets Office Toys Small Anxiety Figette Sensory Toy, ADHD Tools Fingears Figet Stress Relief Gift For Kid Girl Teens Men</span> </a>,\n",
       " <a class=\"a-link-normal s-underline-text s-underline-link-text s-link-style a-text-normal\" href=\"/ATESSON-Spinner-Reducer-Bearing-Spinners/dp/B08MZK8Q3Q/ref=sr_1_35?crid=1B26YBXIB4M79&amp;keywords=fidget+spinner&amp;qid=1700107781&amp;sprefix=fidget+spinner%2Caps%2C84&amp;sr=8-35\"><span class=\"a-size-base-plus a-color-base a-text-normal\">ATESSON Fidget Spinner EDC ADHD Stress Relief Reducer Toys, High Speed Bearing Metal Hand Spinners Anxiety Finger Toys for Kids Adults</span> </a>,\n",
       " <a class=\"a-link-normal s-underline-text s-underline-link-text s-link-style a-text-normal\" href=\"/ATESSON-Spinner-Stainless-Precision-Material/dp/B071G5MGZ9/ref=sr_1_36?crid=1B26YBXIB4M79&amp;keywords=fidget+spinner&amp;qid=1700107781&amp;sprefix=fidget+spinner%2Caps%2C84&amp;sr=8-36\"><span class=\"a-size-base-plus a-color-base a-text-normal\">ATESSON Fidget Spinner Toy Ultra Durable Stainless Steel Bearing High Speed 2-5 Min Spins Precision Metal Material Hand Spinner EDC ADHD Focus Anxiety Stress Relief Killing Time Toys for Adults Kids</span> </a>,\n",
       " <a class=\"a-link-normal s-underline-text s-underline-link-text s-link-style a-text-normal\" href=\"/Spaceship-Spinners-Spinner-Luminous-Portable/dp/B08RNHGFMT/ref=sr_1_37?crid=1B26YBXIB4M79&amp;keywords=fidget+spinner&amp;qid=1700107781&amp;sprefix=fidget+spinner%2Caps%2C84&amp;sr=8-37\"><span class=\"a-size-base-plus a-color-base a-text-normal\">Cool Spaceship Fidget Spinners Metal, UFO Model Finger Hand Spinner, Anti Anxiety Stress Relief Toys Gift for Kids &amp; Adults, Luminous Night Effects, Exclusive Desk Spinning Top for Office</span> </a>,\n",
       " <a class=\"a-link-normal s-underline-text s-underline-link-text s-link-style a-text-normal\" href=\"/SCIONE-Spinner-Tri-Spinner-Classroom-Spinners/dp/B071ZYDMFD/ref=sr_1_38?crid=1B26YBXIB4M79&amp;keywords=fidget+spinner&amp;qid=1700107781&amp;sprefix=fidget+spinner%2Caps%2C84&amp;sr=8-38\"><span class=\"a-size-base-plus a-color-base a-text-normal\">SCIONE Fidget Spinner Bulk 10 Pack Tri-Spinner Office Desk Classroom ADHD Anti Anxiety Focus Finger Fidget Spinners Stress Relief Toys Gifts for Adults Kids Party Favors Easter Basket Suffers</span> </a>,\n",
       " <a class=\"a-link-normal s-underline-text s-underline-link-text s-link-style a-text-normal\" href=\"/ATESSON-Spinner-Durable-Stainless-Material/dp/B087BYJDFP/ref=sr_1_39?crid=1B26YBXIB4M79&amp;keywords=fidget+spinner&amp;qid=1700107781&amp;sprefix=fidget+spinner%2Caps%2C84&amp;sr=8-39\"><span class=\"a-size-base-plus a-color-base a-text-normal\">ATESSON Fidget Spinner Toy 2 to 5 Min Spins Durable Stainless Steel Bearing High Speed Metal Material Hand Spinner Stress Relief Boredom Killing Time Toys</span> </a>,\n",
       " <a class=\"a-link-normal s-underline-text s-underline-link-text s-link-style a-text-normal\" href=\"/GOHEYI-Spinner-Bubbles-FidgetSpinner-Reducing/dp/B09175H4P1/ref=sr_1_40?crid=1B26YBXIB4M79&amp;keywords=fidget+spinner&amp;qid=1700107781&amp;sprefix=fidget+spinner%2Caps%2C84&amp;sr=8-40\"><span class=\"a-size-base-plus a-color-base a-text-normal\">GOHEYI Fidget Spinners 4 Pack, Fidget Toy Pack for Kids, Pop Bulk Sensory Toys Set for Kids, Fidget Spinners ADHD Fidget Toys Stress Relief Hand Pop Spinners</span> </a>,\n",
       " <a class=\"a-link-normal s-underline-text s-underline-link-text s-link-style a-text-normal\" href=\"/Magnetic-Fidget-Anxiety-Decompression-Spinner/dp/B09VK3R3ZC/ref=sr_1_41?crid=1B26YBXIB4M79&amp;keywords=fidget+spinner&amp;qid=1700107781&amp;sprefix=fidget+spinner%2Caps%2C84&amp;sr=8-41\"><span class=\"a-size-base-plus a-color-base a-text-normal\">9Pcs Magnetic Rings Fidget Toy Set, Idea ADHD Anxiety Decompression Magnetic Fidget Toys Adult Fidget Spinner Rings for Relief, Finger Fidget Toys - Gifts for 8 9 10 11 12 13+ Year Old Boy Girl Teen</span> </a>,\n",
       " <a class=\"a-link-normal s-underline-text s-underline-link-text s-link-style a-text-normal\" href=\"/Magnetic-Magnets-Spinner-Anxiety-Therapy/dp/B08V95LX56/ref=sr_1_42?crid=1B26YBXIB4M79&amp;keywords=fidget+spinner&amp;qid=1700107781&amp;sprefix=fidget+spinner%2Caps%2C84&amp;sr=8-42\"><span class=\"a-size-base-plus a-color-base a-text-normal\">Magnetic Rings Fidget Toy Set, Idea ADHD Fidget Toys, Adult Fidget Magnets Spinner Rings for Anxiety Relief Therapy, Fidget Pack Great Gift for Adults Teens Kids (3PCS)</span> </a>,\n",
       " <a class=\"a-link-normal s-underline-text s-underline-link-text s-link-style a-text-normal\" href=\"/FIGROL-Spinners-Christmas-Stuffers-Classroom/dp/B071Y9Z6NY/ref=sr_1_43?crid=1B26YBXIB4M79&amp;keywords=fidget+spinner&amp;qid=1700107781&amp;sprefix=fidget+spinner%2Caps%2C84&amp;sr=8-43\"><span class=\"a-size-base-plus a-color-base a-text-normal\">FIGROL Fidget Spinners 5 Pack, Led Light Up Fidget Toys Christmas Party Favors Goodie Bag Stuffers Fidget Packs Party Supplies for Kids' Birthday Gifts Return Gifts Classroom Prizes</span> </a>,\n",
       " <a class=\"a-link-normal s-underline-text s-underline-link-text s-link-style a-text-normal\" href=\"/SCIONE-Spinners-Stocking-Stuffers-Classroom/dp/B072J7MV6V/ref=sr_1_44?crid=1B26YBXIB4M79&amp;keywords=fidget+spinner&amp;qid=1700107781&amp;sprefix=fidget+spinner%2Caps%2C84&amp;sr=8-44\"><span class=\"a-size-base-plus a-color-base a-text-normal\">SCIONE 12 Pack Fidget Spinner Toy, Finger Spinner Fidget Pack-Anxiety Toys Stress Relief Reducer-Christmas Party Favors for Kids/Adults Birthday Gift,Goodie Bag Stuffer,Classroom Prizes</span> </a>,\n",
       " <a class=\"a-link-normal s-underline-text s-underline-link-text s-link-style a-text-normal\" href=\"/Effacera-Spinner-Tie-Dye-Christmas-Spinners/dp/B093PB72WB/ref=sr_1_45?crid=1B26YBXIB4M79&amp;keywords=fidget+spinner&amp;qid=1700107781&amp;sprefix=fidget+spinner%2Caps%2C84&amp;sr=8-45\"><span class=\"a-size-base-plus a-color-base a-text-normal\">Effacera Fidget Toys Fidgets Spinners for Kids Bulk 4 Packs, Christmas Stocking Goodie Bag Stuffers Kids Party Favors Pop Sensory Learning Toys for Teens Girls Boys, Christmas Birthday Gifts for Kids</span> </a>,\n",
       " <a class=\"a-link-normal s-underline-text s-underline-link-text s-link-style a-text-normal\" href=\"/Suction-Spinner-Spinning-Toddlers-Birthday/dp/B0BJW149FM/ref=sr_1_46?crid=1B26YBXIB4M79&amp;keywords=fidget+spinner&amp;qid=1700107781&amp;sprefix=fidget+spinner%2Caps%2C84&amp;sr=8-46\"><span class=\"a-size-base-plus a-color-base a-text-normal\">3PCS Suction Cup Spinner Toys for 1 2 Year Old Boys Spinning Toys 12-18 Months Sensory Toys for Toddlers 1-3 First Birthday Baby Gifts for Girls</span> </a>,\n",
       " <a class=\"a-link-normal s-underline-text s-underline-link-text s-link-style a-text-normal\" href=\"/Kangaroo-Reducing-Relieving-Assorted-Flashing/dp/B073X8PQJC/ref=sr_1_47?crid=1B26YBXIB4M79&amp;keywords=fidget+spinner&amp;qid=1700107781&amp;sprefix=fidget+spinner%2Caps%2C84&amp;sr=8-47\"><span class=\"a-size-base-plus a-color-base a-text-normal\">Emoji LED Fidget Spinner, Fun Gift Worthy Toy for Kids/Adults Perfect for Reducing Anxiety Relieving Boredom Work Stress, Kids with ADHD | Assorted Colors with Red Blue Green Flashing Lights</span> </a>,\n",
       " <a class=\"a-link-normal s-underline-text s-underline-link-text s-link-style a-text-normal\" href=\"/Iconikal-Fidget-Spinner-Assortment-24-Pack/dp/B084Q9KN34/ref=sr_1_48?crid=1B26YBXIB4M79&amp;keywords=fidget+spinner&amp;qid=1700107781&amp;sprefix=fidget+spinner%2Caps%2C84&amp;sr=8-48\"><span class=\"a-size-base-plus a-color-base a-text-normal\">Iconikal Glow in The Dark Fidget Spinner Random Color Bulk Assortment Set, 24-Pack</span> </a>,\n",
       " <a class=\"a-link-normal s-underline-text s-underline-link-text s-link-style a-text-normal\" href=\"/Fidget-Spinners-EDC-Tri-Spinner-Wholesale/dp/B06ZZ79P66/ref=sr_1_49?crid=1B26YBXIB4M79&amp;keywords=fidget+spinner&amp;qid=1700107781&amp;sprefix=fidget+spinner%2Caps%2C84&amp;sr=8-49\"><span class=\"a-size-base-plus a-color-base a-text-normal\">Fidget Hand Spinners 25 PC Color Bundle Bulk EDC Tri-Spinner Desk School Toy Anxiety Relief ADHD Student Relax Therapy Pack Combo Wholesale Green Red Black White Blue Yellow Glow Pink Glow Sky Blue</span> </a>,\n",
       " <a class=\"a-link-normal s-underline-text s-underline-link-text s-link-style a-text-normal\" href=\"/Effacera-Pop-Fidget-Spinner-Party-Favors-Sensory-Toy-Spinners-School/dp/B094N7MHVT/ref=sr_1_50?crid=1B26YBXIB4M79&amp;keywords=fidget+spinner&amp;qid=1700107781&amp;sprefix=fidget+spinner%2Caps%2C84&amp;sr=8-50\"><span class=\"a-size-base-plus a-color-base a-text-normal\">Effacera Fidget Spinners Toys 6 Pack, Christmas Party Favors for Kids Push Bubble Fidget Spinners Pop Bulk Simple Sensory Toys Christmas Goodie Bag Fillers Trick or Treat Toys for Kids Girls Boys</span> </a>,\n",
       " <a class=\"a-link-normal s-underline-text s-underline-link-text s-link-style a-text-normal\" href=\"/Spinners-Sensory-Birthday-Stuffers-Classroom/dp/B0BVHF5HN3/ref=sr_1_51?crid=1B26YBXIB4M79&amp;keywords=fidget+spinner&amp;qid=1700107781&amp;sprefix=fidget+spinner%2Caps%2C84&amp;sr=8-51\"><span class=\"a-size-base-plus a-color-base a-text-normal\">20 Pcs Cool Fidget Spinners for Kids Adults Boys Girls,Sensory Hand Fidget Pack,Stress Anxiety ADHD Relief Fidgets Toy,Party Favors,Birthday Gifts,Goodie Bag Stuffers,Classroom Prizes</span> </a>,\n",
       " <a class=\"a-link-normal s-underline-text s-underline-link-text s-link-style a-text-normal\" href=\"/FIGROL-Toy-Autism-Spinners-Tri-Spinner-Children/dp/B08MJFYBTN/ref=sr_1_52?crid=1B26YBXIB4M79&amp;keywords=fidget+spinner&amp;qid=1700107781&amp;sprefix=fidget+spinner%2Caps%2C84&amp;sr=8-52\"><span class=\"a-size-base-plus a-color-base a-text-normal\">FIGROL Fidget Spinner 5 Pack, Fidget Hand Toy Autism Fidgets Hand Spinners Finger Toy Tri-Spinner ADHD Anxiety Toys Stress Reducer Spin for Adults Children</span> </a>,\n",
       " <a class=\"a-link-normal s-underline-text s-underline-link-text s-link-style a-text-normal\" href=\"/Jawhock-Decompression-Stuffers-Birthday-Classroom/dp/B0978PLBF2/ref=sr_1_53?crid=1B26YBXIB4M79&amp;keywords=fidget+spinner&amp;qid=1700107781&amp;sprefix=fidget+spinner%2Caps%2C84&amp;sr=8-53\"><span class=\"a-size-base-plus a-color-base a-text-normal\">Jawhock 3 Pack Pop Fidget Spinner, Ideal Decompression Fidget Toys Adult Fidget Spinner for Relief, Goodie Bag Stuffers Return Gifts Birthday Party Favors Classroom Carnival Prize for Kids Boys Girls</span> </a>,\n",
       " <a class=\"a-link-normal s-underline-text s-underline-link-text s-link-style a-text-normal\" href=\"/Dr-Kbder-Sensory-figette-Christmas-Stocking/dp/B0C85L3STM/ref=sr_1_54?crid=1B26YBXIB4M79&amp;keywords=fidget+spinner&amp;qid=1700107781&amp;sprefix=fidget+spinner%2Caps%2C84&amp;sr=8-54\"><span class=\"a-size-base-plus a-color-base a-text-normal\">Dr.Kbder Fidget Toys Adults Set, Autism Sensory Toys Pack with figette Cube Figits Toys ADHD Stress Relief Toys for Kids Teen, Cool Gadget Desk Spinner Christmas Stocking Stuffer for Kids</span> </a>,\n",
       " <a class=\"a-link-normal s-underline-text s-underline-link-text s-link-style a-text-normal\" href=\"/FREEFOG-Stainless-Spinner-Desktop-Rotating/dp/B07R4WTSS4/ref=sr_1_55?crid=1B26YBXIB4M79&amp;keywords=fidget+spinner&amp;qid=1700107781&amp;sprefix=fidget+spinner%2Caps%2C84&amp;sr=8-55\"><span class=\"a-size-base-plus a-color-base a-text-normal\">FREELOVE Fox Tri Metal Fidget Spinner Toys for Adults, All Stainless Steel 1.5'' Hand Gyro, Silent Premium Bearing, 4~6 Mins, Autism Sensory ADHD Anxiety Focus Meditation Break Bad Habits, Silver</span> </a>,\n",
       " <a class=\"a-link-normal s-underline-text s-underline-link-text s-link-style a-text-normal\" href=\"/BBTO-Fidgets-Spinner-Spinners-Fingertip/dp/B0B9BH73M9/ref=sr_1_56?crid=1B26YBXIB4M79&amp;keywords=fidget+spinner&amp;qid=1700107781&amp;sprefix=fidget+spinner%2Caps%2C84&amp;sr=8-56\"><span class=\"a-size-base-plus a-color-base a-text-normal\">3 Pieces Dragon Spinner Metal Spinners Cool Fingertip Spinners Finger Spinner for Anxiety Stress Party Favor (Black)</span> </a>,\n",
       " <a class=\"a-link-normal s-underline-text s-underline-link-text s-link-style a-text-normal\" href=\"/Jawhock-Colorful-Spinners-Stuffers-Classroom/dp/B0BXXPDYPC/ref=sr_1_57?crid=1B26YBXIB4M79&amp;keywords=fidget+spinner&amp;qid=1700107781&amp;sprefix=fidget+spinner%2Caps%2C84&amp;sr=8-57\"><span class=\"a-size-base-plus a-color-base a-text-normal\">Jawhock 12 Pack Colorful Fidget Spinners, High Speed Hand Spinner Goodie Bag Stuffers ADHD Anxiety Toys Stress Relief Reducer, Classroom Prizes Birthday Return Gifts for Kids</span> </a>,\n",
       " <a class=\"a-link-normal s-underline-text s-underline-link-text s-link-style a-text-normal\" href=\"/Spinner-Fingetip-Sensory-Anxiety-Stuffer/dp/B0BXDG5X43/ref=sr_1_58?crid=1B26YBXIB4M79&amp;keywords=fidget+spinner&amp;qid=1700107781&amp;sprefix=fidget+spinner%2Caps%2C84&amp;sr=8-58\"><span class=\"a-size-base-plus a-color-base a-text-normal\">Cool Stress Ball Fidget Spinner Toy Fingetip Spinner Metal for Kids Adults, Sensory Fidget Finger Hand Spinner Toy Ultra Sturdy, Fidgit Desk Toy, Anti Stress Anxiety Relief Stuffer Gifts</span> </a>,\n",
       " <a class=\"a-link-normal s-underline-text s-underline-link-text s-link-style a-text-normal\" href=\"/Gigilli-Spinner-Stuffers-Birthday-Classroom/dp/B09R4J6Y1V/ref=sr_1_59?crid=1B26YBXIB4M79&amp;keywords=fidget+spinner&amp;qid=1700107781&amp;sprefix=fidget+spinner%2Caps%2C84&amp;sr=8-59\"><span class=\"a-size-base-plus a-color-base a-text-normal\">Gigilli 24 Pack Party Favors Fidget Spinners for Kids 4-8 8-12, Kids Christmas Goodie Bag Stocking Stuffers Pop Mini Fidget Toys Classroom Prizes, Bulk Toddler Birthday Return Gifts Sensory Toys</span> </a>,\n",
       " <a class=\"a-link-normal s-underline-text s-underline-link-text s-link-style a-text-normal\" href=\"/Suction-Spinner-Spinning-sensory-toddlers/dp/B08X1YQ2N9/ref=sr_1_60?crid=1B26YBXIB4M79&amp;keywords=fidget+spinner&amp;qid=1700107781&amp;sprefix=fidget+spinner%2Caps%2C84&amp;sr=8-60\"><span class=\"a-size-base-plus a-color-base a-text-normal\">3PCS ALASOU Suction Cup Spinner Toys for 1 2 Year Old Boy&amp;Girl|Spinning Tops Toddler Toys Age 1-2|1 2 Year Old Boy Birthday Gift for Infant|Sensory Baby Bath Toys for Toddlers 1-3</span> </a>,\n",
       " <a class=\"a-link-normal s-underline-text s-underline-link-text s-link-style a-text-normal\" href=\"https://aax-us-iad.amazon.com/x/c/RDf8w77IED0I6vz9kvRNpRkAAAGL1lID4gEAAAH2AQBvbm9fdHhuX2JpZDcgICBvbm9fdHhuX2ltcDEgICCQPQhO/https://www.amazon.com/Spinner-Operated-Outdoor-Christmas-Birthday/dp/B09TVNJCX4/ref=sxbs_sbv_search_btf?content-id=amzn1.sym.f15d2f09-357d-4995-986d-e924fbe183e3%3Aamzn1.sym.f15d2f09-357d-4995-986d-e924fbe183e3&amp;crid=1B26YBXIB4M79&amp;cv_ct_cx=fidget+spinner&amp;keywords=fidget+spinner&amp;pd_rd_i=B09TVNJCX4&amp;pd_rd_r=bad2bbe7-c034-46c7-963b-4a5eee59a7ea&amp;pd_rd_w=pb2YV&amp;pd_rd_wg=Gz3g3&amp;pf_rd_p=f15d2f09-357d-4995-986d-e924fbe183e3&amp;pf_rd_r=YCCSW9ZVFCF3S8F2YFS6&amp;qid=1700107781&amp;sbo=RZvfv%2F%2FHxDF%2BO5021pAnSA%3D%3D&amp;sprefix=fidget+spinner%2Caps%2C84&amp;sr=1-1-a61ee601-6e56-4862-a8a2-1d3da5a5406f\"><span class=\"a-size-medium a-color-base a-text-normal\">ATHLERIA Fidget Flying Spinner with Lights,Hand Operated Mini Drones for Kids,Indoor Outdoor Game Fun Things Yard Toys,Cool Stuff Gadgets Christmas Birthday Gifts for Boys Girls Teens 8 9 10 11+ Year</span> </a>]"
      ]
     },
     "execution_count": 5,
     "metadata": {},
     "output_type": "execute_result"
    }
   ],
   "source": [
    "example_links = example_soup.find_all('a', attrs={'class':'a-link-normal s-underline-text s-underline-link-text s-link-style a-text-normal'})\n",
    "example_links"
   ]
  },
  {
   "cell_type": "markdown",
   "metadata": {},
   "source": [
    "<h3>Obtaining Single Link</h3>"
   ]
  },
  {
   "cell_type": "code",
   "execution_count": 6,
   "metadata": {},
   "outputs": [
    {
     "data": {
      "text/plain": [
       "<a class=\"a-link-normal s-underline-text s-underline-link-text s-link-style a-text-normal\" href=\"/sspa/click?ie=UTF8&amp;spc=MTo3MjI2MTk2NjU1NzI4Njg0OjE3MDAxMDc3ODE6c3BfYXRmOjIwMDE2NjgwODg0NDc5ODo6MDo6&amp;url=%2FUltra-Durable-Spinners-Stainless-Bearings-Reduction%2Fdp%2FB0BXKCWYVN%2Fref%3Dsr_1_3_sspa%3Fcrid%3D1B26YBXIB4M79%26keywords%3Dfidget%2Bspinner%26qid%3D1700107781%26sprefix%3Dfidget%2Bspinner%252Caps%252C84%26sr%3D8-3-spons%26sp_csd%3Dd2lkZ2V0TmFtZT1zcF9hdGY%26psc%3D1\"><span class=\"a-size-base-plus a-color-base a-text-normal\">Jawhcok 15-Pack Ultra-Durable Fidget Spinners with Stainless Steel Bearings for Stress Reduction, Anxiety Relief, and Focus - Perfect Party Favors and Time-Killing Toys for Autism and ADHD</span> </a>"
      ]
     },
     "execution_count": 6,
     "metadata": {},
     "output_type": "execute_result"
    }
   ],
   "source": [
    "example_links[2]"
   ]
  },
  {
   "cell_type": "code",
   "execution_count": 7,
   "metadata": {},
   "outputs": [
    {
     "data": {
      "text/plain": [
       "'https://amazon.com//sspa/click?ie=UTF8&spc=MTo3MjI2MTk2NjU1NzI4Njg0OjE3MDAxMDc3ODE6c3BfYXRmOjIwMDE2NjgwODg0NDc5ODo6MDo6&url=%2FUltra-Durable-Spinners-Stainless-Bearings-Reduction%2Fdp%2FB0BXKCWYVN%2Fref%3Dsr_1_3_sspa%3Fcrid%3D1B26YBXIB4M79%26keywords%3Dfidget%2Bspinner%26qid%3D1700107781%26sprefix%3Dfidget%2Bspinner%252Caps%252C84%26sr%3D8-3-spons%26sp_csd%3Dd2lkZ2V0TmFtZT1zcF9hdGY%26psc%3D1'"
      ]
     },
     "execution_count": 7,
     "metadata": {},
     "output_type": "execute_result"
    }
   ],
   "source": [
    "example_link = example_links[2].get('href')\n",
    "\n",
    "example_product_list = 'https://amazon.com/' + example_link\n",
    "example_product_list"
   ]
  },
  {
   "cell_type": "markdown",
   "metadata": {},
   "source": [
    "<h3>Obtaining product names after licking link</h3>"
   ]
  },
  {
   "cell_type": "code",
   "execution_count": 8,
   "metadata": {},
   "outputs": [
    {
     "data": {
      "text/plain": [
       "<Response [200]>"
      ]
     },
     "execution_count": 8,
     "metadata": {},
     "output_type": "execute_result"
    }
   ],
   "source": [
    "new_webpage = requests.get(example_product_list, headers=HEADERS)\n",
    "new_webpage"
   ]
  },
  {
   "cell_type": "code",
   "execution_count": null,
   "metadata": {},
   "outputs": [],
   "source": [
    "search_soup = BeautifulSoup(new_webpage.content, 'html.parser')\n",
    "search_soup"
   ]
  },
  {
   "cell_type": "code",
   "execution_count": 10,
   "metadata": {},
   "outputs": [
    {
     "data": {
      "text/plain": [
       "'Jawhcok 15-Pack Ultra-Durable Fidget Spinners with Stainless Steel Bearings for Stress Reduction, Anxiety Relief, and Focus - Perfect Party Favors and Time-Killing Toys for Autism and ADHD'"
      ]
     },
     "execution_count": 10,
     "metadata": {},
     "output_type": "execute_result"
    }
   ],
   "source": [
    "search_soup.find('span', attrs={'id':'productTitle'}).text.strip()"
   ]
  },
  {
   "cell_type": "code",
   "execution_count": 11,
   "metadata": {},
   "outputs": [
    {
     "data": {
      "text/plain": [
       "'$19.99'"
      ]
     },
     "execution_count": 11,
     "metadata": {},
     "output_type": "execute_result"
    }
   ],
   "source": [
    "search_soup.find('span', attrs={'class':'a-price aok-align-center'}).find('span', attrs={'class':'a-offscreen'}).text"
   ]
  },
  {
   "cell_type": "code",
   "execution_count": 12,
   "metadata": {},
   "outputs": [
    {
     "data": {
      "text/plain": [
       "'4.7 out of 5 stars'"
      ]
     },
     "execution_count": 12,
     "metadata": {},
     "output_type": "execute_result"
    }
   ],
   "source": [
    "search_soup.find('span', attrs={'class':'a-icon-alt'}).text"
   ]
  }
 ],
 "metadata": {
  "kernelspec": {
   "display_name": "venv-py-projects",
   "language": "python",
   "name": "python3"
  },
  "language_info": {
   "codemirror_mode": {
    "name": "ipython",
    "version": 3
   },
   "file_extension": ".py",
   "mimetype": "text/x-python",
   "name": "python",
   "nbconvert_exporter": "python",
   "pygments_lexer": "ipython3",
   "version": "3.10.7"
  }
 },
 "nbformat": 4,
 "nbformat_minor": 2
}
