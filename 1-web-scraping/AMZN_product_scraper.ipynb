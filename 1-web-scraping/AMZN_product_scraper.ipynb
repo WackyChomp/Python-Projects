{
 "cells": [
  {
   "cell_type": "markdown",
   "metadata": {},
   "source": [
    "<h1>Example of scraping information of single product from Amazon</h1>"
   ]
  },
  {
   "cell_type": "code",
   "execution_count": 1,
   "metadata": {},
   "outputs": [],
   "source": [
    "# Imports\n",
    "from bs4 import BeautifulSoup\n",
    "import requests\n",
    "import pandas as pd\n",
    "\n",
    "# Loading environment variable\n",
    "import os\n",
    "from dotenv import load_dotenv\n",
    "load_dotenv()\n",
    "User_Agent = os.environ.get('USER_AGENT')"
   ]
  },
  {
   "cell_type": "code",
   "execution_count": 2,
   "metadata": {},
   "outputs": [],
   "source": [
    "# URL is based on search results page\n",
    "URL = 'https://www.amazon.com/s?k=fidget+spinner&crid=1B26YBXIB4M79&sprefix=fidget+spinner%2Caps%2C84&ref=nb_sb_noss_1'\n",
    "\n",
    "HEADERS = ({'User-Agent': User_Agent, 'Accept-Language': 'en-US, en:q=0.5'})\n",
    "webpage = requests.get(URL, headers=HEADERS)"
   ]
  },
  {
   "cell_type": "code",
   "execution_count": 3,
   "metadata": {},
   "outputs": [
    {
     "data": {
      "text/plain": [
       "bytes"
      ]
     },
     "execution_count": 3,
     "metadata": {},
     "output_type": "execute_result"
    }
   ],
   "source": [
    "# webpage.content\n",
    "type(webpage.content)"
   ]
  },
  {
   "cell_type": "markdown",
   "metadata": {},
   "source": [
    "<h3>Obtaining html of search results page</h3>"
   ]
  },
  {
   "cell_type": "code",
   "execution_count": null,
   "metadata": {},
   "outputs": [],
   "source": [
    "example_soup = BeautifulSoup(webpage.content, 'html.parser')\n",
    "example_soup"
   ]
  },
  {
   "cell_type": "code",
   "execution_count": 5,
   "metadata": {},
   "outputs": [
    {
     "data": {
      "text/plain": [
       "[<a class=\"a-link-normal s-underline-text s-underline-link-text s-link-style a-text-normal\" href=\"/sspa/click?ie=UTF8&amp;spc=MTo2NjI4MzQ4MTI4MDIzNjg1OjE3MDAxOTA3NTc6c3BfYXRmOjIwMDAxMjM0NDY0MDk1MTo6MDo6&amp;url=%2FSCIONE-Spinner-Tri-Spinner-Classroom-Spinners%2Fdp%2FB071ZYDMFD%2Fref%3Dsr_1_1_sspa%3Fcrid%3D1B26YBXIB4M79%26keywords%3Dfidget%2Bspinner%26qid%3D1700190757%26sprefix%3Dfidget%2Bspinner%252Caps%252C84%26sr%3D8-1-spons%26sp_csd%3Dd2lkZ2V0TmFtZT1zcF9hdGY%26psc%3D1\"><span class=\"a-size-base-plus a-color-base a-text-normal\">SCIONE Fidget Spinner Bulk 10 Pack Tri-Spinner Office Desk Classroom ADHD Anti Anxiety Focus Finger Fidget Spinners Stress Relief Toys Gifts for Adults Kids Party Favors Easter Basket Suffers</span> </a>,\n",
       " <a class=\"a-link-normal s-underline-text s-underline-link-text s-link-style a-text-normal\" href=\"/sspa/click?ie=UTF8&amp;spc=MTo2NjI4MzQ4MTI4MDIzNjg1OjE3MDAxOTA3NTc6c3BfYXRmOjMwMDA4NTk0NTQ4MjEwMjo6MDo6&amp;url=%2FWoanger-Spinners-Stocking-Stuffers-Multicolor%2Fdp%2FB0CLY5G3QF%2Fref%3Dsr_1_2_sspa%3Fcrid%3D1B26YBXIB4M79%26keywords%3Dfidget%2Bspinner%26qid%3D1700190757%26sprefix%3Dfidget%2Bspinner%252Caps%252C84%26sr%3D8-2-spons%26sp_csd%3Dd2lkZ2V0TmFtZT1zcF9hdGY%26psc%3D1\"><span class=\"a-size-base-plus a-color-base a-text-normal\">Woanger 48 Pcs Cool Spinners Steel Hand Spinner High Speed Metal Spinners Finger Spinners Anxiety Stress Relief Toys for Adults Party Goodie Bag Stocking Stuffers Gifts (Multicolor,Five Holes)</span> </a>,\n",
       " <a class=\"a-link-normal s-underline-text s-underline-link-text s-link-style a-text-normal\" href=\"/sspa/click?ie=UTF8&amp;spc=MTo2NjI4MzQ4MTI4MDIzNjg1OjE3MDAxOTA3NTc6c3BfYXRmOjIwMDA4Njk2NzA4MTc5ODo6MDo6&amp;url=%2FPcs-Fidget-Pack-Autistics-Classroom%2Fdp%2FB0973R7JMP%2Fref%3Dsr_1_3_sspa%3Fcrid%3D1B26YBXIB4M79%26keywords%3Dfidget%2Bspinner%26qid%3D1700190757%26sprefix%3Dfidget%2Bspinner%252Caps%252C84%26sr%3D8-3-spons%26sp_csd%3Dd2lkZ2V0TmFtZT1zcF9hdGY%26psc%3D1\"><span class=\"a-size-base-plus a-color-base a-text-normal\">50 Pcs Fidget Toys Pack - Kids Stocking Stuffers Gifts for Kids, Party Favors Autism Autistic Children - Adults Stress Relief Sensory Toy - ADHD Toys Bulk for Classroom Treasure Box Prizes - Pop Its</span> </a>,\n",
       " <a class=\"a-link-normal s-underline-text s-underline-link-text s-link-style a-text-normal\" href=\"/sspa/click?ie=UTF8&amp;spc=MTo2NjI4MzQ4MTI4MDIzNjg1OjE3MDAxOTA3NTc6c3BfYXRmOjMwMDAxMDMwOTk5NzMwMjo6MDo6&amp;url=%2FAveloki-Colorful-High-Speed-Reduction-Classroom%2Fdp%2FB0BZPFSRV3%2Fref%3Dsr_1_4_sspa%3Fcrid%3D1B26YBXIB4M79%26keywords%3Dfidget%2Bspinner%26qid%3D1700190757%26sprefix%3Dfidget%2Bspinner%252Caps%252C84%26sr%3D8-4-spons%26sp_csd%3Dd2lkZ2V0TmFtZT1zcF9hdGY%26psc%3D1\"><span class=\"a-size-base-plus a-color-base a-text-normal\">Aveloki 24 Pack Colorful Fidget Spinners, High-Speed Spinner Toys for Stress Reduction and Anxiety Relief, Ideal for Goodie Bags, Classroom Prizes, and Party Favor Gifts for Children</span> </a>,\n",
       " <a class=\"a-link-normal s-underline-text s-underline-link-text s-link-style a-text-normal\" href=\"/ATESSON-Spinner-Stainless-Precision-Material/dp/B06XQ3GGHY/ref=sr_1_5?crid=1B26YBXIB4M79&amp;keywords=fidget+spinner&amp;qid=1700190757&amp;sprefix=fidget+spinner%2Caps%2C84&amp;sr=8-5\"><span class=\"a-size-base-plus a-color-base a-text-normal\">ATESSON Fidget Spinner Toy Ultra Durable Stainless Steel Bearing High Speed 2-5 Min Spins Precision Brass Material Hand spinner EDC ADHD Focus Anxiety Stress Relief Boredom Killing Time Toys</span> </a>,\n",
       " <a class=\"a-link-normal s-underline-text s-underline-link-text s-link-style a-text-normal\" href=\"/SCIONE-Spinners-Adults-Sensory-Packs-ADHD-Anxiety/dp/B071KZS7H1/ref=sr_1_6?crid=1B26YBXIB4M79&amp;keywords=fidget+spinner&amp;qid=1700190757&amp;sprefix=fidget+spinner%2Caps%2C84&amp;sr=8-6\"><span class=\"a-size-base-plus a-color-base a-text-normal\">SCIONE Fidget Spinners Toys 5 Pack, Sensory Hand Fidget Pack Bulk, Anxiety Toys Stress Relief Reducer, Party Favors for Kids Adults Goodie Bag Stuffers, Kids Classroom Prizes</span> </a>,\n",
       " <a class=\"a-link-normal s-underline-text s-underline-link-text s-link-style a-text-normal\" href=\"/FIGROL-Fidget-Spinner-Adults-Crystal/dp/B07214DFMY/ref=sr_1_7?crid=1B26YBXIB4M79&amp;keywords=fidget+spinner&amp;qid=1700190757&amp;sprefix=fidget+spinner%2Caps%2C84&amp;sr=8-7\"><span class=\"a-size-base-plus a-color-base a-text-normal\">Fidget Spinner, Thanksgiving Christmas Led Light Crystal Finger Toy, Hand Spinner for Kids, ADHD Anxiety Stress Reducer(Dark Blue)</span> </a>,\n",
       " <a class=\"a-link-normal s-underline-text s-underline-link-text s-link-style a-text-normal\" href=\"/sspa/click?ie=UTF8&amp;spc=MToxMTIyNDU0NjI3ODMyNjg1OjE3MDAxOTA3NTc6c3Bfc2VhcmNoX3RoZW1hdGljOjMwMDA3NDg2MzE0ODIwMjo6MDo6&amp;url=%2FSCIONE-Spinner-Tri-Spinner-Classroom-Spinners%2Fdp%2FB071ZYDMFD%2Fref%3Dsxin_17_pa_sp_search_thematic_top_reviews_v2_0_sspa%3Fcontent-id%3Damzn1.sym.d925414a-ffcb-4b03-aebb-8799a505f550%253Aamzn1.sym.d925414a-ffcb-4b03-aebb-8799a505f550%26crid%3D1B26YBXIB4M79%26cv_ct_cx%3Dfidget%2Bspinner%26keywords%3Dfidget%2Bspinner%26pd_rd_i%3DB071ZYDMFD%26pd_rd_r%3D7d0a3e39-6ee4-450e-b1e2-8d8de729f2e7%26pd_rd_w%3D9Qfp6%26pd_rd_wg%3DLSl0h%26pf_rd_p%3Dd925414a-ffcb-4b03-aebb-8799a505f550%26pf_rd_r%3DQ9T7DPCTXC193WATC017%26qid%3D1700190757%26sbo%3DRZvfv%252F%252FHxDF%252BO5021pAnSA%253D%253D%26sprefix%3Dfidget%2Bspinner%252Caps%252C84%26sr%3D1-1-b78dcdd7-1541-4e3d-b434-1591e6770418-spons%26sp_csd%3Dd2lkZ2V0TmFtZT1zcF9zZWFyY2hfdGhlbWF0aWM%26psc%3D1\"><span class=\"a-size-base-plus a-color-base a-text-normal\">SCIONE Fidget Spinner Bulk 10 Pack Tri-Spinner Office Desk Classroom ADHD Anti Anxiety Focus Finger Fidget Spinners Stress Relief Toys Gifts for Adults Kids Party Favors Easter Basket Suffers</span> </a>,\n",
       " <a class=\"a-link-normal s-underline-text s-underline-link-text s-link-style a-text-normal\" href=\"/sspa/click?ie=UTF8&amp;spc=MToxMTIyNDU0NjI3ODMyNjg1OjE3MDAxOTA3NTc6c3Bfc2VhcmNoX3RoZW1hdGljOjIwMDA0NzQ0NTkwODUxMTo6MTo6&amp;url=%2FLAFALInK-Spinners-Spinner-Stainless-Bearing%2Fdp%2FB08LGM1NSK%2Fref%3Dsxin_17_pa_sp_search_thematic_top_reviews_v2_0_sspa%3Fcontent-id%3Damzn1.sym.d925414a-ffcb-4b03-aebb-8799a505f550%253Aamzn1.sym.d925414a-ffcb-4b03-aebb-8799a505f550%26crid%3D1B26YBXIB4M79%26cv_ct_cx%3Dfidget%2Bspinner%26keywords%3Dfidget%2Bspinner%26pd_rd_i%3DB08LGM1NSK%26pd_rd_r%3D7d0a3e39-6ee4-450e-b1e2-8d8de729f2e7%26pd_rd_w%3D9Qfp6%26pd_rd_wg%3DLSl0h%26pf_rd_p%3Dd925414a-ffcb-4b03-aebb-8799a505f550%26pf_rd_r%3DQ9T7DPCTXC193WATC017%26qid%3D1700190757%26sbo%3DRZvfv%252F%252FHxDF%252BO5021pAnSA%253D%253D%26sprefix%3Dfidget%2Bspinner%252Caps%252C84%26sr%3D1-2-b78dcdd7-1541-4e3d-b434-1591e6770418-spons%26sp_csd%3Dd2lkZ2V0TmFtZT1zcF9zZWFyY2hfdGhlbWF0aWM%26psc%3D1\"><span class=\"a-size-base-plus a-color-base a-text-normal\">Fidget Spinners, Fidget Spinner Toy Gifts for Adults and Kids,Flying Fidget Spinners Stainless Steel Bearing 5-8 Min High Speed Spin,Stress Anxiety ADHD Relief Figets Toy Killing Time</span> </a>,\n",
       " <a class=\"a-link-normal s-underline-text s-underline-link-text s-link-style a-text-normal\" href=\"/sspa/click?ie=UTF8&amp;spc=MToxMTIyNDU0NjI3ODMyNjg1OjE3MDAxOTA3NTc6c3Bfc2VhcmNoX3RoZW1hdGljOjMwMDAxNjE0NjQ2NzgwMjo6Mjo6&amp;url=%2FPoSeitiks-Spinners-Assorted-Flower-Styled-Colorful%2Fdp%2FB09BM8Q9PR%2Fref%3Dsxin_17_pa_sp_search_thematic_top_reviews_v2_0_sspa%3Fcontent-id%3Damzn1.sym.d925414a-ffcb-4b03-aebb-8799a505f550%253Aamzn1.sym.d925414a-ffcb-4b03-aebb-8799a505f550%26crid%3D1B26YBXIB4M79%26cv_ct_cx%3Dfidget%2Bspinner%26keywords%3Dfidget%2Bspinner%26pd_rd_i%3DB09BM8Q9PR%26pd_rd_r%3D7d0a3e39-6ee4-450e-b1e2-8d8de729f2e7%26pd_rd_w%3D9Qfp6%26pd_rd_wg%3DLSl0h%26pf_rd_p%3Dd925414a-ffcb-4b03-aebb-8799a505f550%26pf_rd_r%3DQ9T7DPCTXC193WATC017%26qid%3D1700190757%26sbo%3DRZvfv%252F%252FHxDF%252BO5021pAnSA%253D%253D%26sprefix%3Dfidget%2Bspinner%252Caps%252C84%26sr%3D1-3-b78dcdd7-1541-4e3d-b434-1591e6770418-spons%26sp_csd%3Dd2lkZ2V0TmFtZT1zcF9zZWFyY2hfdGhlbWF0aWM%26psc%3D1\"><span class=\"a-size-base-plus a-color-base a-text-normal\">PoSeitiks Fidget Spinners, 32PCS Fidget Spinners Bulk, Colorful Fidget Spinners for Kids and Adults with 5/6 Bubbles, Silicone Pop Stress Relief Toy for Autism</span> </a>,\n",
       " <a class=\"a-link-normal s-underline-text s-underline-link-text s-link-style a-text-normal\" href=\"/sspa/click?ie=UTF8&amp;spc=MToxMTIyNDU0NjI3ODMyNjg1OjE3MDAxOTA3NTc6c3Bfc2VhcmNoX3RoZW1hdGljOjIwMDAxOTY0ODM1MjA1MTo6Mzo6&amp;url=%2FSCIONE-Spinner-Rainbow-Relieving-Boredom%2Fdp%2FB073718PDV%2Fref%3Dsxin_17_pa_sp_search_thematic_top_reviews_v2_0_sspa%3Fcontent-id%3Damzn1.sym.d925414a-ffcb-4b03-aebb-8799a505f550%253Aamzn1.sym.d925414a-ffcb-4b03-aebb-8799a505f550%26crid%3D1B26YBXIB4M79%26cv_ct_cx%3Dfidget%2Bspinner%26keywords%3Dfidget%2Bspinner%26pd_rd_i%3DB073718PDV%26pd_rd_r%3D7d0a3e39-6ee4-450e-b1e2-8d8de729f2e7%26pd_rd_w%3D9Qfp6%26pd_rd_wg%3DLSl0h%26pf_rd_p%3Dd925414a-ffcb-4b03-aebb-8799a505f550%26pf_rd_r%3DQ9T7DPCTXC193WATC017%26qid%3D1700190757%26sbo%3DRZvfv%252F%252FHxDF%252BO5021pAnSA%253D%253D%26sprefix%3Dfidget%2Bspinner%252Caps%252C84%26sr%3D1-4-b78dcdd7-1541-4e3d-b434-1591e6770418-spons%26sp_csd%3Dd2lkZ2V0TmFtZT1zcF9zZWFyY2hfdGhlbWF0aWM%26psc%3D1\"><span class=\"a-size-base-plus a-color-base a-text-normal\">SCIONE Fidget Spinners, 25 Pack Gifts for Adults and Kids, Prize for Classroom,Party Favors for Kids,Stress Anxiety ADHD Relief Fidgets Toy, Finger Hand Spinner Toys</span> </a>,\n",
       " <a class=\"a-link-normal s-underline-text s-underline-link-text s-link-style a-text-normal\" href=\"/sspa/click?ie=UTF8&amp;spc=MToxMTIyNDU0NjI3ODMyNjg1OjE3MDAxOTA3NTc6c3Bfc2VhcmNoX3RoZW1hdGljOjIwMDAxNDQ4MzU1MTA4MTo6NDo6&amp;url=%2FFREELOVE-Spinner-Bearing-Spinners-Silver-Gold%2Fdp%2FB072N23RC6%2Fref%3Dsxin_17_pa_sp_search_thematic_top_reviews_v2_0_sspa%3Fcontent-id%3Damzn1.sym.d925414a-ffcb-4b03-aebb-8799a505f550%253Aamzn1.sym.d925414a-ffcb-4b03-aebb-8799a505f550%26crid%3D1B26YBXIB4M79%26cv_ct_cx%3Dfidget%2Bspinner%26keywords%3Dfidget%2Bspinner%26pd_rd_i%3DB072N23RC6%26pd_rd_r%3D7d0a3e39-6ee4-450e-b1e2-8d8de729f2e7%26pd_rd_w%3D9Qfp6%26pd_rd_wg%3DLSl0h%26pf_rd_p%3Dd925414a-ffcb-4b03-aebb-8799a505f550%26pf_rd_r%3DQ9T7DPCTXC193WATC017%26qid%3D1700190757%26sbo%3DRZvfv%252F%252FHxDF%252BO5021pAnSA%253D%253D%26sprefix%3Dfidget%2Bspinner%252Caps%252C84%26sr%3D1-5-b78dcdd7-1541-4e3d-b434-1591e6770418-spons%26sp_csd%3Dd2lkZ2V0TmFtZT1zcF9zZWFyY2hfdGhlbWF0aWM%26psc%3D1\"><span class=\"a-size-base-plus a-color-base a-text-normal\">FREELOVE Copper Gears Linkage Fidget Spinner Toys for Adults, Mini Small Metal Spinners Silent Premium Bearing, Stacking Extendable Kinetic EDC Gyro Autism Sensory ADHD Anxiety (1 Gear, Silver-Brass)</span> </a>,\n",
       " <a class=\"a-link-normal s-underline-text s-underline-link-text s-link-style a-text-normal\" href=\"/Abodhu-Spinner-Sensory-Popping-Spinners/dp/B091748RHH/ref=sr_1_8?crid=1B26YBXIB4M79&amp;keywords=fidget+spinner&amp;qid=1700190757&amp;sprefix=fidget+spinner%2Caps%2C84&amp;sr=8-8\"><span class=\"a-size-base-plus a-color-base a-text-normal\">Fidget Spinners 7 Pack, Tie Dye Popper Small Fidget Toys Bulk Present for Teen, Goodie Bag Stuffers Return Gifts Birthday Party Favors Classroom Carnival Prize for Kids Boys Girls</span> </a>,\n",
       " <a class=\"a-link-normal s-underline-text s-underline-link-text s-link-style a-text-normal\" href=\"/ATESSON-Spinner-Durable-Bearing-Spinners/dp/B08HYXP24Q/ref=sr_1_9?crid=1B26YBXIB4M79&amp;keywords=fidget+spinner&amp;qid=1700190757&amp;sprefix=fidget+spinner%2Caps%2C84&amp;sr=8-9\"><span class=\"a-size-base-plus a-color-base a-text-normal\">ATESSON Fidget Spinner Toys, Durable High Speed Bearing Metal Hand Finger Spinners EDC ADHD Focus Anxiety Stress Relief Boredom Killing Time Toys for Kids Adults</span> </a>,\n",
       " <a class=\"a-link-normal s-underline-text s-underline-link-text s-link-style a-text-normal\" href=\"/Spinners-Deformable-Fingertip-Decompression-Mechanical/dp/B09LS2Q3FQ/ref=sr_1_10?crid=1B26YBXIB4M79&amp;keywords=fidget+spinner&amp;qid=1700190757&amp;sprefix=fidget+spinner%2Caps%2C84&amp;sr=8-10\"><span class=\"a-size-base-plus a-color-base a-text-normal\">3Pcs Fidget Spinners,DIY Deformable Robot Fingertip Toys,Decompression Spinner,Deformable Creative Mechanical Gyro Toys,Stress Relief Mechanical Chain Toy for Kids Adults</span> </a>,\n",
       " <a class=\"a-link-normal s-underline-text s-underline-link-text s-link-style a-text-normal\" href=\"/sspa/click?ie=UTF8&amp;spc=MTo2NjI4MzQ4MTI4MDIzNjg1OjE3MDAxOTA3NTc6c3BfbXRmOjIwMDA0NzQ0NTkwODUxMTo6MDo6&amp;url=%2FLAFALInK-Spinners-Spinner-Stainless-Bearing%2Fdp%2FB08LGM1NSK%2Fref%3Dsr_1_11_sspa%3Fcrid%3D1B26YBXIB4M79%26keywords%3Dfidget%2Bspinner%26qid%3D1700190757%26sprefix%3Dfidget%2Bspinner%252Caps%252C84%26sr%3D8-11-spons%26sp_csd%3Dd2lkZ2V0TmFtZT1zcF9tdGY%26psc%3D1\"><span class=\"a-size-base-plus a-color-base a-text-normal\">Fidget Spinners, Fidget Spinner Toy Gifts for Adults and Kids,Flying Fidget Spinners Stainless Steel Bearing 5-8 Min High Speed Spin,Stress Anxiety ADHD Relief Figets Toy Killing Time</span> </a>,\n",
       " <a class=\"a-link-normal s-underline-text s-underline-link-text s-link-style a-text-normal\" href=\"/sspa/click?ie=UTF8&amp;spc=MTo2NjI4MzQ4MTI4MDIzNjg1OjE3MDAxOTA3NTc6c3BfbXRmOjMwMDA3NDM5MDM0MzMwMjo6MDo6&amp;url=%2FDeformable-Astronaut-Fingertip-Classroom-Christmas%2Fdp%2FB0CFDM2JZK%2Fref%3Dsr_1_12_sspa%3Fcrid%3D1B26YBXIB4M79%26keywords%3Dfidget%2Bspinner%26qid%3D1700190757%26sprefix%3Dfidget%2Bspinner%252Caps%252C84%26sr%3D8-12-spons%26sp_csd%3Dd2lkZ2V0TmFtZT1zcF9tdGY%26psc%3D1\"><span class=\"a-size-base-plus a-color-base a-text-normal\">24Pcs Pop Fidget Spinners,DIY Deformable Astronaut Fingertip Toys, Keychain Fidget Spinners Adults Toys,Glow in The Dark Party Favors,Sensory Toys Bulk for Kids Classroom Prizes,Christmas Toys</span> </a>,\n",
       " <a class=\"a-link-normal s-underline-text s-underline-link-text s-link-style a-text-normal\" href=\"/Jawhock-Spinner-Reduction-Anxiety-Children/dp/B09SH2N8PR/ref=sr_1_13?crid=1B26YBXIB4M79&amp;keywords=fidget+spinner&amp;qid=1700190757&amp;sprefix=fidget+spinner%2Caps%2C84&amp;sr=8-13\"><span class=\"a-size-base-plus a-color-base a-text-normal\">Jawhock Fidget Spinner 2 Pack, Stress Reduction and Anxiety Relief Hand Spinner Ultra Durable Stainless Steel Bearing, Best Autism Finger Spinner Focus Party Favor Killing Time Toy</span> </a>,\n",
       " <a class=\"a-link-normal s-underline-text s-underline-link-text s-link-style a-text-normal\" href=\"/FIGROL-Spinner-Crystal-Rainbow-Spinner-Kids/dp/B071SHLRXC/ref=sr_1_14?crid=1B26YBXIB4M79&amp;keywords=fidget+spinner&amp;qid=1700190757&amp;sprefix=fidget+spinner%2Caps%2C84&amp;sr=8-14\"><span class=\"a-size-base-plus a-color-base a-text-normal\">FIGROL LED Light Fidget Spinner, Light Fidget Finger Toy Hand Spinner -Stress Reduction and Anxiety Relief Hand Spinner for Children</span> </a>,\n",
       " <a class=\"a-link-normal s-underline-text s-underline-link-text s-link-style a-text-normal\" href=\"https://aax-us-iad.amazon.com/x/c/RGO9hPKm93dGvtZU3ub2AaMAAAGL20QiJgEAAAH2AQBvbm9fdHhuX2JpZDEgICBvbm9fdHhuX2ltcDEgICD-Qa6F/https://www.amazon.com/ONO-Roller-Jr-Black-Promoting/dp/B097SVCQ11/ref=sxin_25_sbv_search_btf?content-id=amzn1.sym.5795aee5-71f0-4369-b632-e8c78407f2cf%3Aamzn1.sym.5795aee5-71f0-4369-b632-e8c78407f2cf&amp;crid=1B26YBXIB4M79&amp;cv_ct_cx=fidget+spinner&amp;keywords=fidget+spinner&amp;pd_rd_i=B097SVCQ11&amp;pd_rd_r=7d0a3e39-6ee4-450e-b1e2-8d8de729f2e7&amp;pd_rd_w=COBPS&amp;pd_rd_wg=LSl0h&amp;pf_rd_p=5795aee5-71f0-4369-b632-e8c78407f2cf&amp;pf_rd_r=Q9T7DPCTXC193WATC017&amp;qid=1700190757&amp;sbo=RZvfv%2F%2FHxDF%2BO5021pAnSA%3D%3D&amp;sprefix=fidget+spinner%2Caps%2C84&amp;sr=1-1-5190daf0-67e3-427c-bea6-c72c1df98776\"><span class=\"a-size-medium a-color-base a-text-normal\">ONO Roller - Handheld Fidget Toy for Adults | Help Relieve Stress, Anxiety, Tension | Promotes Focus, Clarity | Compact, Portable Design (Junior Size/ABS Plastic, Black)</span> </a>,\n",
       " <a class=\"a-link-normal s-underline-text s-underline-link-text s-link-style a-text-normal\" href=\"/ATESSON-Spinner-Stainless-Precision-Material/dp/B071Z68LGL/ref=sr_1_15?crid=1B26YBXIB4M79&amp;keywords=fidget+spinner&amp;qid=1700190757&amp;sprefix=fidget+spinner%2Caps%2C84&amp;sr=8-15\"><span class=\"a-size-base-plus a-color-base a-text-normal\">ATESSON Fidget Spinner Toy Ultra Durable Stainless Steel Bearing High Speed Precision Metal Material Hand Spinner Focus Anxiety Stress Relief Boredom Killing Time Toys Silver</span> </a>,\n",
       " <a class=\"a-link-normal s-underline-text s-underline-link-text s-link-style a-text-normal\" href=\"/ATESSON-Spinner-Stainless-Precision-Relieves/dp/B0BWQ2X329/ref=sr_1_16?crid=1B26YBXIB4M79&amp;keywords=fidget+spinner&amp;qid=1700190757&amp;sprefix=fidget+spinner%2Caps%2C84&amp;sr=8-16\"><span class=\"a-size-base-plus a-color-base a-text-normal\">ATESSON Fidget Spinner Toy, Ultra Durable Stainless Steel Bearing High Speed 3-5 Min Precision Brass Metal Finger Spinner, EDC ADHD Stress Relief Anxiety Relieves Reducer for Kids and Adults</span> </a>,\n",
       " <a class=\"a-link-normal s-underline-text s-underline-link-text s-link-style a-text-normal\" href=\"/sspa/click?ie=UTF8&amp;spc=MTo2NjI4MzQ4MTI4MDIzNjg1OjE3MDAxOTA3NTc6c3BfbXRmOjMwMDAxODY2MzExMTYwMjo6MDo6&amp;url=%2FMOZACI-Fidget-Toys-Set-Classroom%2Fdp%2FB0C855J5NL%2Fref%3Dsr_1_17_sspa%3Fcrid%3D1B26YBXIB4M79%26keywords%3Dfidget%2Bspinner%26qid%3D1700190757%26sprefix%3Dfidget%2Bspinner%252Caps%252C84%26sr%3D8-17-spons%26sp_csd%3Dd2lkZ2V0TmFtZT1zcF9tdGY%26psc%3D1\"><span class=\"a-size-base-plus a-color-base a-text-normal\">MOZACI Fidget Toys, 120 Pack Fidgets Set Stocking Stuffers for Kids Party Favors Autism Sensory Toy Bulk Adults Kids Boys Girls Teens Stress Autistic ADHD Anxiety Carnival Treasure Classroom Prizes</span> </a>,\n",
       " <a class=\"a-link-normal s-underline-text s-underline-link-text s-link-style a-text-normal\" href=\"/sspa/click?ie=UTF8&amp;spc=MTo2NjI4MzQ4MTI4MDIzNjg1OjE3MDAxOTA3NTc6c3BfbXRmOjIwMDA5NzUxNzMwNzc5ODo6MDo6&amp;url=%2FInteresting-Decompression-Zhaocaijingbao-Creative-Ornament%2Fdp%2FB0BD88HJ2P%2Fref%3Dsr_1_18_sspa%3Fcrid%3D1B26YBXIB4M79%26keywords%3Dfidget%2Bspinner%26qid%3D1700190757%26sprefix%3Dfidget%2Bspinner%252Caps%252C84%26sr%3D8-18-spons%26sp_csd%3Dd2lkZ2V0TmFtZT1zcF9tdGY%26psc%3D1\"><span class=\"a-size-base-plus a-color-base a-text-normal\">Lucky Fortune Fidget Spinner, Interesting Decompression Toy,Zhaocaijingbao Feng Shui Amulet Glow in The Dark Creative Small Ornament,Good Luck Gifts for Men, Women, Kids, Lovers with (Green)</span> </a>,\n",
       " <a class=\"a-link-normal s-underline-text s-underline-link-text s-link-style a-text-normal\" href=\"/sspa/click?ie=UTF8&amp;spc=MTo2NjI4MzQ4MTI4MDIzNjg1OjE3MDAxOTA3NTc6c3BfbXRmOjMwMDAxNjE0NjQ2NzgwMjo6MDo6&amp;url=%2FPoSeitiks-Spinners-Assorted-Flower-Styled-Colorful%2Fdp%2FB09BM8Q9PR%2Fref%3Dsr_1_19_sspa%3Fcrid%3D1B26YBXIB4M79%26keywords%3Dfidget%2Bspinner%26qid%3D1700190757%26sprefix%3Dfidget%2Bspinner%252Caps%252C84%26sr%3D8-19-spons%26sp_csd%3Dd2lkZ2V0TmFtZT1zcF9tdGY%26psc%3D1\"><span class=\"a-size-base-plus a-color-base a-text-normal\">PoSeitiks Fidget Spinners, 32PCS Fidget Spinners Bulk, Colorful Fidget Spinners for Kids and Adults with 5/6 Bubbles, Silicone Pop Stress Relief Toy for Autism</span> </a>,\n",
       " <a class=\"a-link-normal s-underline-text s-underline-link-text s-link-style a-text-normal\" href=\"/sspa/click?ie=UTF8&amp;spc=MTo2NjI4MzQ4MTI4MDIzNjg1OjE3MDAxOTA3NTc6c3BfbXRmOjMwMDA2ODU5NzQ4ODUwMjo6MDo6&amp;url=%2FSpinners-Stainless-Bearing-Anxiety-Relieves%2Fdp%2FB0CDQH26JQ%2Fref%3Dsr_1_20_sspa%3Fcrid%3D1B26YBXIB4M79%26keywords%3Dfidget%2Bspinner%26qid%3D1700190757%26sprefix%3Dfidget%2Bspinner%252Caps%252C84%26sr%3D8-20-spons%26sp_csd%3Dd2lkZ2V0TmFtZT1zcF9tdGY%26psc%3D1\"><span class=\"a-size-base-plus a-color-base a-text-normal\">Fidget Spinners Toy, Metal Stainless Steel Bearing High Speed 4-8 Min Spins, EDC ADHD Stress Anxiety Relieves Reducer Fidgets Finger Toys, Novelty Gift for Kids and Adults</span> </a>,\n",
       " <a class=\"a-link-normal s-underline-text s-underline-link-text s-link-style a-text-normal\" href=\"/SCIONE-Metal-Stainless-Spinners-Fidgeting/dp/B075F1QH4G/ref=sr_1_21?crid=1B26YBXIB4M79&amp;keywords=fidget+spinner&amp;qid=1700190757&amp;sprefix=fidget+spinner%2Caps%2C84&amp;sr=8-21\"><span class=\"a-size-base-plus a-color-base a-text-normal\">SCIONE Metal Fidget Spinner for Kid Adult, Sensory Hand Fidget Toy 5 Pack-Anxiety Toys Stress Relief Reducer- Party Favors for Kid Adult, Goodie Bag Stuffers, Classroom Prizes, Party Favors Supplies</span> </a>,\n",
       " <a class=\"a-link-normal s-underline-text s-underline-link-text s-link-style a-text-normal\" href=\"/Spinner-Trispinner-Spinners-Fidgeting-Restless/dp/B08HWF2F9F/ref=sr_1_22?crid=1B26YBXIB4M79&amp;keywords=fidget+spinner&amp;qid=1700190757&amp;sprefix=fidget+spinner%2Caps%2C84&amp;sr=8-22\"><span class=\"a-size-base-plus a-color-base a-text-normal\">Dragon Fidget Spinner Anti Anxiety Toys Stress Relief Reducer Spin Fidgets Finger Hand Bearing Finger Spinners Toy Focus Fidgeting Restless Tri Spinner Best Novelty Gift for Adults Kids</span> </a>,\n",
       " <a class=\"a-link-normal s-underline-text s-underline-link-text s-link-style a-text-normal\" href=\"/Gigilli-Fidget-Spinners-Anxiety-Birthday/dp/B0993GD8DM/ref=sr_1_23?crid=1B26YBXIB4M79&amp;keywords=fidget+spinner&amp;qid=1700190757&amp;sprefix=fidget+spinner%2Caps%2C84&amp;sr=8-23\"><span class=\"a-size-base-plus a-color-base a-text-normal\">Gigilli Fidget Spinners 2 Pack, LED Light Up Fidget Toys for Kids and Adult, Christmas Goodie Bag Stocking Stuffers Glow in The Dark Sensory Toys, Classroom Prizes Birthday Return Gift for Kids 4-8-12</span> </a>,\n",
       " <a class=\"a-link-normal s-underline-text s-underline-link-text s-link-style a-text-normal\" href=\"/FIGROL-Spinner-Metal-Looking-Spinners-Rainbow/dp/B09532YJRQ/ref=sr_1_24?crid=1B26YBXIB4M79&amp;keywords=fidget+spinner&amp;qid=1700190757&amp;sprefix=fidget+spinner%2Caps%2C84&amp;sr=8-24\"><span class=\"a-size-base-plus a-color-base a-text-normal\">FIGROL 3 Pack Fidget Spinner, Party Favor Gifts for Kids Metal-Looking Fidget Spinners, Pop Bubble Rainbow Fidget Toys Spinners for ADHD Anxiety,Stress Relief Sensory Toy</span> </a>,\n",
       " <a class=\"a-link-normal s-underline-text s-underline-link-text s-link-style a-text-normal\" href=\"/sspa/click?ie=UTF8&amp;spc=MTo2NjI4MzQ4MTI4MDIzNjg1OjE3MDAxOTA3NTc6c3BfbXRmOjMwMDA4NjA3ODU5MzkwMjo6MDo6&amp;url=%2FRuyepanK-Boomerang-Galactic-Spinner-Outdoor%2Fdp%2FB0CM8P4F6H%2Fref%3Dsr_1_25_sspa%3Fcrid%3D1B26YBXIB4M79%26keywords%3Dfidget%2Bspinner%26qid%3D1700190757%26sprefix%3Dfidget%2Bspinner%252Caps%252C84%26sr%3D8-25-spons%26sp_csd%3Dd2lkZ2V0TmFtZT1zcF9tdGY%26psc%3D1\"><span class=\"a-size-base-plus a-color-base a-text-normal\">RuyepanK 2023 Flying Orb Ball Toy,Cosmic Globe Boomerang Hover Ball Galactic Fidget Spinner, Hand Drone Orbit, Cool Toys Gift for 6+ Year Old Boys Girls Teens Outdoor Toys</span> </a>,\n",
       " <a class=\"a-link-normal s-underline-text s-underline-link-text s-link-style a-text-normal\" href=\"/sspa/click?ie=UTF8&amp;spc=MTo2NjI4MzQ4MTI4MDIzNjg1OjE3MDAxOTA3NTc6c3BfbXRmOjIwMDE3NTgxNzIyNzU5ODo6MDo6&amp;url=%2FBracelets-Stuffers-Supplies-Treasure-Halloween%2Fdp%2FB0C2PD2LWR%2Fref%3Dsr_1_26_sspa%3Fcrid%3D1B26YBXIB4M79%26keywords%3Dfidget%2Bspinner%26qid%3D1700190757%26sprefix%3Dfidget%2Bspinner%252Caps%252C84%26sr%3D8-26-spons%26sp_csd%3Dd2lkZ2V0TmFtZT1zcF9tdGY%26psc%3D1\"><span class=\"a-size-base-plus a-color-base a-text-normal\">48 Pack LED Light Up Fidget Spinner Bracelets, Party Favors For Kids 8-12 Goodie Bag Stuffers Glow in The Dark Party Supplies Treasure Box School Prizes Birthday Halloween Xmas Gifts For Boy Girls 4-8</span> </a>,\n",
       " <a class=\"a-link-normal s-underline-text s-underline-link-text s-link-style a-text-normal\" href=\"/SCIONE-Pack-Anxiety-Reducer-Stuffers-Classroom/dp/B0736QSNHY/ref=sr_1_27?crid=1B26YBXIB4M79&amp;keywords=fidget+spinner&amp;qid=1700190757&amp;sprefix=fidget+spinner%2Caps%2C84&amp;sr=8-27\"><span class=\"a-size-base-plus a-color-base a-text-normal\">SCIONE Metal Fidget Spinner for Kid Adult,Sensory Hand Fidget Toy 7 Pack-Anxiety Toys Stress Relief Reducer-Party Favors,Return Gifts for Kids Birthday,Goodie Bag Stuffers,Classroom Prizes</span> </a>,\n",
       " <a class=\"a-link-normal s-underline-text s-underline-link-text s-link-style a-text-normal\" href=\"/SCIONE-Pack-Fidget-Spinners-Thanksgiving/dp/B08JYWH3CD/ref=sr_1_28?crid=1B26YBXIB4M79&amp;keywords=fidget+spinner&amp;qid=1700190757&amp;sprefix=fidget+spinner%2Caps%2C84&amp;sr=8-28\"><span class=\"a-size-base-plus a-color-base a-text-normal\">SCIONE 5 Pack Fidget Spinners - Led Light Up Fidget Spinner, Halloween Thanksgiving Goodie Bag Stuffers Glow in The Dark Sensory Toys, Stress Reduction and Anxiety Relief Hand Spinner for Kids</span> </a>,\n",
       " <a class=\"a-link-normal s-underline-text s-underline-link-text s-link-style a-text-normal\" href=\"/ATESSON-Spinner-Reducer-Bearing-Spinners/dp/B08MZK8Q3Q/ref=sr_1_29?crid=1B26YBXIB4M79&amp;keywords=fidget+spinner&amp;qid=1700190757&amp;sprefix=fidget+spinner%2Caps%2C84&amp;sr=8-29\"><span class=\"a-size-base-plus a-color-base a-text-normal\">ATESSON Fidget Spinner EDC ADHD Stress Relief Reducer Toys, High Speed Bearing Metal Hand Spinners Anxiety Finger Toys for Kids Adults</span> </a>,\n",
       " <a class=\"a-link-normal s-underline-text s-underline-link-text s-link-style a-text-normal\" href=\"/Spinner-Anxiety-Spinners-Fidgeting-Restless/dp/B08HWDXFMS/ref=sr_1_30?crid=1B26YBXIB4M79&amp;keywords=fidget+spinner&amp;qid=1700190757&amp;sprefix=fidget+spinner%2Caps%2C84&amp;sr=8-30\"><span class=\"a-size-base-plus a-color-base a-text-normal\">Umnodobn Gold Fidget Spinner Magic Orb Anxiety Toys Stress Relief Reducer Spin Fidgets Hand Bearing Tri Spinner Finger Spinners Toy Focus Fidgeting Restless Novelty Gift for Adults Kids</span> </a>,\n",
       " <a class=\"a-link-normal s-underline-text s-underline-link-text s-link-style a-text-normal\" href=\"/Spinner-Anxiety-Relief-Stuffers-Birthday/dp/B097GWG82D/ref=sr_1_31?crid=1B26YBXIB4M79&amp;keywords=fidget+spinner&amp;qid=1700190757&amp;sprefix=fidget+spinner%2Caps%2C84&amp;sr=8-31\"><span class=\"a-size-base-plus a-color-base a-text-normal\">6 Pack Fidget Spinners- Goodie Bag Stuffers Graduation Return Gifts Birthday Party Favors Classroom Carnival Prize for Kids Boys Girls- Tie Dye Popper Small Fidget Toys Bulk Present for Teen</span> </a>,\n",
       " <a class=\"a-link-normal s-underline-text s-underline-link-text s-link-style a-text-normal\" href=\"/Spinners-Spinner-Anxiety-Luminous-Release/dp/B07WDNSK5T/ref=sr_1_32?crid=1B26YBXIB4M79&amp;keywords=fidget+spinner&amp;qid=1700190757&amp;sprefix=fidget+spinner%2Caps%2C84&amp;sr=8-32\"><span class=\"a-size-base-plus a-color-base a-text-normal\">Fidget Spinners, Spinner Gifts for Adults and Kids, Stress Anxiety ADHD Relief Figets Toy, Metal Finger Hand Toy with Luminous Light, Absorb Solar Light Then Release in Dark</span> </a>,\n",
       " <a class=\"a-link-normal s-underline-text s-underline-link-text s-link-style a-text-normal\" href=\"/Phoenix-Spinner-Stainless-Fingertip-Rainbow/dp/B077K8WM8F/ref=sr_1_33?crid=1B26YBXIB4M79&amp;keywords=fidget+spinner&amp;qid=1700190757&amp;sprefix=fidget+spinner%2Caps%2C84&amp;sr=8-33\"><span class=\"a-size-base-plus a-color-base a-text-normal\">Phoenix Cool Fidget Hand Spinners Dragon Wing Finger Spinner Metal Focus Stainless Steel Fingertip Gyro Stress Relief Spiral Twister Toy Party Favors Birthday Gift for Kids Adults(Rainbow)</span> </a>,\n",
       " <a class=\"a-link-normal s-underline-text s-underline-link-text s-link-style a-text-normal\" href=\"/Dr-Kbder-Spinner-Kirsite-Relaxing-Boyfriend/dp/B0B1ZZPLN3/ref=sr_1_34?crid=1B26YBXIB4M79&amp;keywords=fidget+spinner&amp;qid=1700190757&amp;sprefix=fidget+spinner%2Caps%2C84&amp;sr=8-34\"><span class=\"a-size-base-plus a-color-base a-text-normal\">Dr.Kbder Fidget Spinner Toys Cube Adults, Metal EDC Figetsss Cool Desk Gadgets Office Toys Small Anxiety Figette Sensory Toy, ADHD Tools Fingears Figet Stress Relief Gift For Kid Girl Teens Men</span> </a>,\n",
       " <a class=\"a-link-normal s-underline-text s-underline-link-text s-link-style a-text-normal\" href=\"/ATESSON-Spinner-Durable-Stainless-Material/dp/B087BYJDFP/ref=sr_1_35?crid=1B26YBXIB4M79&amp;keywords=fidget+spinner&amp;qid=1700190757&amp;sprefix=fidget+spinner%2Caps%2C84&amp;sr=8-35\"><span class=\"a-size-base-plus a-color-base a-text-normal\">ATESSON Fidget Spinner Toy 2 to 5 Min Spins Durable Stainless Steel Bearing High Speed Metal Material Hand Spinner Stress Relief Boredom Killing Time Toys</span> </a>,\n",
       " <a class=\"a-link-normal s-underline-text s-underline-link-text s-link-style a-text-normal\" href=\"/SCIONE-Spinner-Tri-Spinner-Classroom-Spinners/dp/B071ZYDMFD/ref=sr_1_36?crid=1B26YBXIB4M79&amp;keywords=fidget+spinner&amp;qid=1700190757&amp;sprefix=fidget+spinner%2Caps%2C84&amp;sr=8-36\"><span class=\"a-size-base-plus a-color-base a-text-normal\">SCIONE Fidget Spinner Bulk 10 Pack Tri-Spinner Office Desk Classroom ADHD Anti Anxiety Focus Finger Fidget Spinners Stress Relief Toys Gifts for Adults Kids Party Favors Easter Basket Suffers</span> </a>,\n",
       " <a class=\"a-link-normal s-underline-text s-underline-link-text s-link-style a-text-normal\" href=\"/Effacera-Spinner-Tie-Dye-Christmas-Spinners/dp/B093PB72WB/ref=sr_1_37?crid=1B26YBXIB4M79&amp;keywords=fidget+spinner&amp;qid=1700190757&amp;sprefix=fidget+spinner%2Caps%2C84&amp;sr=8-37\"><span class=\"a-size-base-plus a-color-base a-text-normal\">Effacera Fidget Toys Fidgets Spinners for Kids Bulk 4 Packs, Christmas Stocking Goodie Bag Stuffers Kids Party Favors Pop Sensory Learning Toys for Teens Girls Boys, Christmas Birthday Gifts for Kids</span> </a>,\n",
       " <a class=\"a-link-normal s-underline-text s-underline-link-text s-link-style a-text-normal\" href=\"/SCIONE-Spinners-Stocking-Stuffers-Classroom/dp/B072J7MV6V/ref=sr_1_38?crid=1B26YBXIB4M79&amp;keywords=fidget+spinner&amp;qid=1700190757&amp;sprefix=fidget+spinner%2Caps%2C84&amp;sr=8-38\"><span class=\"a-size-base-plus a-color-base a-text-normal\">SCIONE 12 Pack Fidget Spinner Toy, Finger Spinner Fidget Pack-Anxiety Toys Stress Relief Reducer-Christmas Party Favors for Kids/Adults Birthday Gift,Goodie Bag Stuffer,Classroom Prizes</span> </a>,\n",
       " <a class=\"a-link-normal s-underline-text s-underline-link-text s-link-style a-text-normal\" href=\"/Spaceship-Spinners-Spinner-Luminous-Portable/dp/B08RNHGFMT/ref=sr_1_39?crid=1B26YBXIB4M79&amp;keywords=fidget+spinner&amp;qid=1700190757&amp;sprefix=fidget+spinner%2Caps%2C84&amp;sr=8-39\"><span class=\"a-size-base-plus a-color-base a-text-normal\">Cool Spaceship Fidget Spinners Metal, UFO Model Finger Hand Spinner, Anti Anxiety Stress Relief Toys Gift for Kids &amp; Adults, Luminous Night Effects, Exclusive Desk Spinning Top for Office</span> </a>,\n",
       " <a class=\"a-link-normal s-underline-text s-underline-link-text s-link-style a-text-normal\" href=\"/FIGROL-Toy-Autism-Spinners-Tri-Spinner-Children/dp/B08MJFYBTN/ref=sr_1_40?crid=1B26YBXIB4M79&amp;keywords=fidget+spinner&amp;qid=1700190757&amp;sprefix=fidget+spinner%2Caps%2C84&amp;sr=8-40\"><span class=\"a-size-base-plus a-color-base a-text-normal\">FIGROL Fidget Spinner 5 Pack, Fidget Hand Toy Autism Fidgets Hand Spinners Finger Toy Tri-Spinner ADHD Anxiety Toys Stress Reducer Spin for Adults Children</span> </a>,\n",
       " <a class=\"a-link-normal s-underline-text s-underline-link-text s-link-style a-text-normal\" href=\"/BBTO-Fidgets-Spinner-Spinners-Fingertip/dp/B0B9BH73M9/ref=sr_1_41?crid=1B26YBXIB4M79&amp;keywords=fidget+spinner&amp;qid=1700190757&amp;sprefix=fidget+spinner%2Caps%2C84&amp;sr=8-41\"><span class=\"a-size-base-plus a-color-base a-text-normal\">3 Pieces Dragon Spinner Metal Spinners Cool Fingertip Spinners Finger Spinner for Anxiety Stress Party Favor (Black)</span> </a>,\n",
       " <a class=\"a-link-normal s-underline-text s-underline-link-text s-link-style a-text-normal\" href=\"/FREELOVE-Upgraded-Luminous-Meditation-Stainless/dp/B0BGS1H4T3/ref=sr_1_42?crid=1B26YBXIB4M79&amp;keywords=fidget+spinner&amp;qid=1700190757&amp;sprefix=fidget+spinner%2Caps%2C84&amp;sr=8-42\"><span class=\"a-size-base-plus a-color-base a-text-normal\">FREELOVE Upgraded Fox Tri 1.8'' Fidget Spinner with Steel/Glow Beads, Clicking Noise Metal Spinning Toys for Adults, Premium Bearing 4~6 Min, Autism Sensory ADHD Anxiety, Stainless Steel, Stone Black</span> </a>,\n",
       " <a class=\"a-link-normal s-underline-text s-underline-link-text s-link-style a-text-normal\" href=\"/Dr-Kbder-Sensory-figette-Christmas-Stocking/dp/B0C85L3STM/ref=sr_1_43?crid=1B26YBXIB4M79&amp;keywords=fidget+spinner&amp;qid=1700190757&amp;sprefix=fidget+spinner%2Caps%2C84&amp;sr=8-43\"><span class=\"a-size-base-plus a-color-base a-text-normal\">Dr.Kbder Fidget Toys Adults Set, Autism Sensory Toys Pack with figette Cube Figits Toys ADHD Stress Relief Toys for Kids Teen, Cool Gadget Desk Spinner Christmas Stocking Stuffer for Kids</span> </a>,\n",
       " <a class=\"a-link-normal s-underline-text s-underline-link-text s-link-style a-text-normal\" href=\"/fidget-toys-adults-magnetic-rings-anxiety/dp/B09MHB5MTQ/ref=sr_1_44?crid=1B26YBXIB4M79&amp;keywords=fidget+spinner&amp;qid=1700190757&amp;sprefix=fidget+spinner%2Caps%2C84&amp;sr=8-44\"><span class=\"a-size-base-plus a-color-base a-text-normal\">BUNMO Magnetic Rings 3pk | Fidget Toys Adults | Hundreds of Tricks to Learn | Stocking Stuffers for Teens Adults Men | Fidget Spinner Fidgets | Boys Stocking Stuffers Ages 12-15</span> </a>,\n",
       " <a class=\"a-link-normal s-underline-text s-underline-link-text s-link-style a-text-normal\" href=\"/Spinners-Stuffers-Birthday-Supplies-Stocking/dp/B07HBL82CF/ref=sr_1_45?crid=1B26YBXIB4M79&amp;keywords=fidget+spinner&amp;qid=1700190757&amp;sprefix=fidget+spinner%2Caps%2C84&amp;sr=8-45\"><span class=\"a-size-base-plus a-color-base a-text-normal\">Cool Fidget Spinners Toy Metal for Kids Adults, Steel Fidgit Finger Hand Spinner Desk Toys Gifts Goodie Bag Fillers, Anti Anxiety Stress Relief Toys Stocking Stuffer Party Favors Supplies</span> </a>,\n",
       " <a class=\"a-link-normal s-underline-text s-underline-link-text s-link-style a-text-normal\" href=\"/FREEFOG-Stainless-Spinner-Desktop-Rotating/dp/B07R4WTSS4/ref=sr_1_46?crid=1B26YBXIB4M79&amp;keywords=fidget+spinner&amp;qid=1700190757&amp;sprefix=fidget+spinner%2Caps%2C84&amp;sr=8-46\"><span class=\"a-size-base-plus a-color-base a-text-normal\">FREELOVE Fox Tri Metal Fidget Spinner Toys for Adults, All Stainless Steel 1.5'' Hand Gyro, Silent Premium Bearing, 4~6 Mins, Autism Sensory ADHD Anxiety Focus Meditation Break Bad Habits, Silver</span> </a>,\n",
       " <a class=\"a-link-normal s-underline-text s-underline-link-text s-link-style a-text-normal\" href=\"/YIJO-Fidget-Spinners-Anxiety-Mechanical/dp/B09RFFWTJ8/ref=sr_1_47?crid=1B26YBXIB4M79&amp;keywords=fidget+spinner&amp;qid=1700190757&amp;sprefix=fidget+spinner%2Caps%2C84&amp;sr=8-47\"><span class=\"a-size-base-plus a-color-base a-text-normal\">YIJO Fidget Spinners, Metal Fidget Toys, Silver Fidget Spinners for Kids and Adults Named Shadow Silver Could Glow in The Dark</span> </a>,\n",
       " <a class=\"a-link-normal s-underline-text s-underline-link-text s-link-style a-text-normal\" href=\"/Fidget-Spinners-EDC-Tri-Spinner-Wholesale/dp/B06ZZ79P66/ref=sr_1_48?crid=1B26YBXIB4M79&amp;keywords=fidget+spinner&amp;qid=1700190757&amp;sprefix=fidget+spinner%2Caps%2C84&amp;sr=8-48\"><span class=\"a-size-base-plus a-color-base a-text-normal\">Fidget Hand Spinners 25 PC Color Bundle Bulk EDC Tri-Spinner Desk School Toy Anxiety Relief ADHD Student Relax Therapy Pack Combo Wholesale Green Red Black White Blue Yellow Glow Pink Glow Sky Blue</span> </a>,\n",
       " <a class=\"a-link-normal s-underline-text s-underline-link-text s-link-style a-text-normal\" href=\"/Magnetic-Magnets-Spinner-Anxiety-Therapy/dp/B08V95LX56/ref=sr_1_49?crid=1B26YBXIB4M79&amp;keywords=fidget+spinner&amp;qid=1700190757&amp;sprefix=fidget+spinner%2Caps%2C84&amp;sr=8-49\"><span class=\"a-size-base-plus a-color-base a-text-normal\">Magnetic Rings Fidget Toy Set, Idea ADHD Fidget Toys, Adult Fidget Magnets Spinner Rings for Anxiety Relief Therapy, Fidget Pack Great Gift for Adults Teens Kids (3PCS)</span> </a>,\n",
       " <a class=\"a-link-normal s-underline-text s-underline-link-text s-link-style a-text-normal\" href=\"/Kangaroo-Reducing-Relieving-Assorted-Flashing/dp/B073X8PQJC/ref=sr_1_50?crid=1B26YBXIB4M79&amp;keywords=fidget+spinner&amp;qid=1700190757&amp;sprefix=fidget+spinner%2Caps%2C84&amp;sr=8-50\"><span class=\"a-size-base-plus a-color-base a-text-normal\">Emoji LED Fidget Spinner, Fun Gift Worthy Toy for Kids/Adults Perfect for Reducing Anxiety Relieving Boredom Work Stress, Kids with ADHD | Assorted Colors with Red Blue Green Flashing Lights</span> </a>,\n",
       " <a class=\"a-link-normal s-underline-text s-underline-link-text s-link-style a-text-normal\" href=\"/Spinner-Linkage-Meditation-Multiple-Bearings/dp/B075FTLRRN/ref=sr_1_51?crid=1B26YBXIB4M79&amp;keywords=fidget+spinner&amp;qid=1700190757&amp;sprefix=fidget+spinner%2Caps%2C84&amp;sr=8-51\"><span class=\"a-size-base-plus a-color-base a-text-normal\">Pure Brass Fidget Spinner Gears Linkage Fidget Gyro Toy Metal DIY Hand Spinner Spins Long Time EDC Focus Meditation Break Bad Habits ADHD with Multiple Premium Bearings (13 Bearings Black)</span> </a>,\n",
       " <a class=\"a-link-normal s-underline-text s-underline-link-text s-link-style a-text-normal\" href=\"/Magnetic-Fidget-Anxiety-Decompression-Spinner/dp/B09VK3R3ZC/ref=sr_1_52?crid=1B26YBXIB4M79&amp;keywords=fidget+spinner&amp;qid=1700190757&amp;sprefix=fidget+spinner%2Caps%2C84&amp;sr=8-52\"><span class=\"a-size-base-plus a-color-base a-text-normal\">9Pcs Magnetic Rings Fidget Toy Set, Idea ADHD Anxiety Decompression Magnetic Fidget Toys Adult Fidget Spinner Rings for Relief, Finger Fidget Toys - Gifts for 8 9 10 11 12 13+ Year Old Boy Girl Teen</span> </a>,\n",
       " <a class=\"a-link-normal s-underline-text s-underline-link-text s-link-style a-text-normal\" href=\"/Spinners-Sensory-Birthday-Stuffers-Classroom/dp/B0BVHF5HN3/ref=sr_1_53?crid=1B26YBXIB4M79&amp;keywords=fidget+spinner&amp;qid=1700190757&amp;sprefix=fidget+spinner%2Caps%2C84&amp;sr=8-53\"><span class=\"a-size-base-plus a-color-base a-text-normal\">20 Pcs Cool Fidget Spinners for Kids Adults Boys Girls,Sensory Hand Fidget Pack,Stress Anxiety ADHD Relief Fidgets Toy,Party Favors,Birthday Gifts,Goodie Bag Stuffers,Classroom Prizes</span> </a>,\n",
       " <a class=\"a-link-normal s-underline-text s-underline-link-text s-link-style a-text-normal\" href=\"/Dragon-Fidget-Spinners-Spinner-Anxiety/dp/B08GYQ13PD/ref=sr_1_54?crid=1B26YBXIB4M79&amp;keywords=fidget+spinner&amp;qid=1700190757&amp;sprefix=fidget+spinner%2Caps%2C84&amp;sr=8-54\"><span class=\"a-size-base-plus a-color-base a-text-normal\">Cool Phoenix Fidget Spinners Toys Metal 2 Pack, Dragon Finger Hand Spinner for Adults and Kids, Anti Anxiety Stress Relief Desk Toy, Fingertip Gyro Spinning Top Novelty Gift</span> </a>,\n",
       " <a class=\"a-link-normal s-underline-text s-underline-link-text s-link-style a-text-normal\" href=\"/Jawhock-Decompression-Stuffers-Birthday-Classroom/dp/B0978PLBF2/ref=sr_1_55?crid=1B26YBXIB4M79&amp;keywords=fidget+spinner&amp;qid=1700190757&amp;sprefix=fidget+spinner%2Caps%2C84&amp;sr=8-55\"><span class=\"a-size-base-plus a-color-base a-text-normal\">Jawhock 3 Pack Pop Fidget Spinner, Ideal Decompression Fidget Toys Adult Fidget Spinner for Relief, Goodie Bag Stuffers Return Gifts Birthday Party Favors Classroom Carnival Prize for Kids Boys Girls</span> </a>,\n",
       " <a class=\"a-link-normal s-underline-text s-underline-link-text s-link-style a-text-normal\" href=\"/GOHEYI-Spinner-Bubbles-FidgetSpinner-Reducing/dp/B09175H4P1/ref=sr_1_56?crid=1B26YBXIB4M79&amp;keywords=fidget+spinner&amp;qid=1700190757&amp;sprefix=fidget+spinner%2Caps%2C84&amp;sr=8-56\"><span class=\"a-size-base-plus a-color-base a-text-normal\">GOHEYI Fidget Spinners 4 Pack, Fidget Toy Pack for Kids, Pop Bulk Sensory Toys Set for Kids, Fidget Spinners ADHD Fidget Toys Stress Relief Hand Pop Spinners</span> </a>,\n",
       " <a class=\"a-link-normal s-underline-text s-underline-link-text s-link-style a-text-normal\" href=\"/Jawhock-Colorful-Spinners-Stuffers-Classroom/dp/B0BXXPDYPC/ref=sr_1_57?crid=1B26YBXIB4M79&amp;keywords=fidget+spinner&amp;qid=1700190757&amp;sprefix=fidget+spinner%2Caps%2C84&amp;sr=8-57\"><span class=\"a-size-base-plus a-color-base a-text-normal\">Jawhock 12 Pack Colorful Fidget Spinners, High Speed Hand Spinner Goodie Bag Stuffers ADHD Anxiety Toys Stress Relief Reducer, Classroom Prizes Birthday Return Gifts for Kids</span> </a>,\n",
       " <a class=\"a-link-normal s-underline-text s-underline-link-text s-link-style a-text-normal\" href=\"/Effacera-Pop-Fidget-Spinner-Party-Favors-Sensory-Toy-Spinners-School/dp/B094N7MHVT/ref=sr_1_58?crid=1B26YBXIB4M79&amp;keywords=fidget+spinner&amp;qid=1700190757&amp;sprefix=fidget+spinner%2Caps%2C84&amp;sr=8-58\"><span class=\"a-size-base-plus a-color-base a-text-normal\">Effacera Fidget Spinners Toys 6 Pack, Christmas Party Favors for Kids Push Bubble Fidget Spinners Pop Bulk Simple Sensory Toys Christmas Goodie Bag Fillers Trick or Treat Toys for Kids Girls Boys</span> </a>,\n",
       " <a class=\"a-link-normal s-underline-text s-underline-link-text s-link-style a-text-normal\" href=\"/Iconikal-Fidget-Spinner-Assortment-24-Pack/dp/B084Q9KN34/ref=sr_1_59?crid=1B26YBXIB4M79&amp;keywords=fidget+spinner&amp;qid=1700190757&amp;sprefix=fidget+spinner%2Caps%2C84&amp;sr=8-59\"><span class=\"a-size-base-plus a-color-base a-text-normal\">Iconikal Glow in The Dark Fidget Spinner Random Color Bulk Assortment Set, 24-Pack</span> </a>,\n",
       " <a class=\"a-link-normal s-underline-text s-underline-link-text s-link-style a-text-normal\" href=\"/FIGROL-Spinners-Christmas-Stuffers-Classroom/dp/B071Y9Z6NY/ref=sr_1_60?crid=1B26YBXIB4M79&amp;keywords=fidget+spinner&amp;qid=1700190757&amp;sprefix=fidget+spinner%2Caps%2C84&amp;sr=8-60\"><span class=\"a-size-base-plus a-color-base a-text-normal\">FIGROL Fidget Spinners 5 Pack, Led Light Up Fidget Toys Christmas Party Favors Goodie Bag Stuffers Fidget Packs Party Supplies for Kids' Birthday Gifts Return Gifts Classroom Prizes</span> </a>,\n",
       " <a class=\"a-link-normal s-underline-text s-underline-link-text s-link-style a-text-normal\" href=\"https://aax-us-iad.amazon.com/x/c/RCtDcMik6NBrOSwRKgxrqmIAAAGL20QiQAEAAAH2AQBvbm9fdHhuX2JpZDUgICBvbm9fdHhuX2ltcDEgICA8FQ-o/https://www.amazon.com/D-FantiX-Fidget-Spinner-Floppy-Anti-Anxiety/dp/B07CGPWZKP/ref=sxbs_sbv_search_btf?content-id=amzn1.sym.f15d2f09-357d-4995-986d-e924fbe183e3%3Aamzn1.sym.f15d2f09-357d-4995-986d-e924fbe183e3&amp;crid=1B26YBXIB4M79&amp;cv_ct_cx=fidget+spinner&amp;keywords=fidget+spinner&amp;pd_rd_i=B07CGPWZKP&amp;pd_rd_r=a3e74817-1c1f-48a2-8a96-d797e9bd6130&amp;pd_rd_w=z7YHO&amp;pd_rd_wg=lgYML&amp;pf_rd_p=f15d2f09-357d-4995-986d-e924fbe183e3&amp;pf_rd_r=Q9T7DPCTXC193WATC017&amp;qid=1700190757&amp;sbo=RZvfv%2F%2FHxDF%2BO5021pAnSA%3D%3D&amp;sprefix=fidget+spinner%2Caps%2C84&amp;sr=1-1-a61ee601-6e56-4862-a8a2-1d3da5a5406f\"><span class=\"a-size-medium a-color-base a-text-normal\">D-FantiX Fidget Spinners Cube, 1x3x3 Floppy Cube Puzzle Fidget Spinner Anti-Anxiety Fidget Toys for Kids Adults</span> </a>]"
      ]
     },
     "execution_count": 5,
     "metadata": {},
     "output_type": "execute_result"
    }
   ],
   "source": [
    "example_links = example_soup.find_all('a', attrs={'class':'a-link-normal s-underline-text s-underline-link-text s-link-style a-text-normal'})\n",
    "example_links"
   ]
  },
  {
   "cell_type": "markdown",
   "metadata": {},
   "source": [
    "<h3>Obtaining single link on search result page</h3>"
   ]
  },
  {
   "cell_type": "code",
   "execution_count": 6,
   "metadata": {},
   "outputs": [
    {
     "data": {
      "text/plain": [
       "<a class=\"a-link-normal s-underline-text s-underline-link-text s-link-style a-text-normal\" href=\"/sspa/click?ie=UTF8&amp;spc=MTo2NjI4MzQ4MTI4MDIzNjg1OjE3MDAxOTA3NTc6c3BfYXRmOjIwMDA4Njk2NzA4MTc5ODo6MDo6&amp;url=%2FPcs-Fidget-Pack-Autistics-Classroom%2Fdp%2FB0973R7JMP%2Fref%3Dsr_1_3_sspa%3Fcrid%3D1B26YBXIB4M79%26keywords%3Dfidget%2Bspinner%26qid%3D1700190757%26sprefix%3Dfidget%2Bspinner%252Caps%252C84%26sr%3D8-3-spons%26sp_csd%3Dd2lkZ2V0TmFtZT1zcF9hdGY%26psc%3D1\"><span class=\"a-size-base-plus a-color-base a-text-normal\">50 Pcs Fidget Toys Pack - Kids Stocking Stuffers Gifts for Kids, Party Favors Autism Autistic Children - Adults Stress Relief Sensory Toy - ADHD Toys Bulk for Classroom Treasure Box Prizes - Pop Its</span> </a>"
      ]
     },
     "execution_count": 6,
     "metadata": {},
     "output_type": "execute_result"
    }
   ],
   "source": [
    "example_links[2]"
   ]
  },
  {
   "cell_type": "code",
   "execution_count": 7,
   "metadata": {},
   "outputs": [
    {
     "data": {
      "text/plain": [
       "'https://amazon.com//sspa/click?ie=UTF8&spc=MTo2NjI4MzQ4MTI4MDIzNjg1OjE3MDAxOTA3NTc6c3BfYXRmOjIwMDA4Njk2NzA4MTc5ODo6MDo6&url=%2FPcs-Fidget-Pack-Autistics-Classroom%2Fdp%2FB0973R7JMP%2Fref%3Dsr_1_3_sspa%3Fcrid%3D1B26YBXIB4M79%26keywords%3Dfidget%2Bspinner%26qid%3D1700190757%26sprefix%3Dfidget%2Bspinner%252Caps%252C84%26sr%3D8-3-spons%26sp_csd%3Dd2lkZ2V0TmFtZT1zcF9hdGY%26psc%3D1'"
      ]
     },
     "execution_count": 7,
     "metadata": {},
     "output_type": "execute_result"
    }
   ],
   "source": [
    "example_link = example_links[2].get('href')\n",
    "\n",
    "example_product_list = 'https://amazon.com/' + example_link\n",
    "example_product_list"
   ]
  },
  {
   "cell_type": "markdown",
   "metadata": {},
   "source": [
    "<h3>Obtaining product name after clicking link</h3>"
   ]
  },
  {
   "cell_type": "code",
   "execution_count": 8,
   "metadata": {},
   "outputs": [
    {
     "data": {
      "text/plain": [
       "<Response [200]>"
      ]
     },
     "execution_count": 8,
     "metadata": {},
     "output_type": "execute_result"
    }
   ],
   "source": [
    "new_webpage = requests.get(example_product_list, headers=HEADERS)\n",
    "new_webpage"
   ]
  },
  {
   "cell_type": "code",
   "execution_count": null,
   "metadata": {},
   "outputs": [],
   "source": [
    "search_soup = BeautifulSoup(new_webpage.content, 'html.parser')\n",
    "search_soup"
   ]
  },
  {
   "cell_type": "markdown",
   "metadata": {},
   "source": [
    "<h3>Product Title</h3>"
   ]
  },
  {
   "cell_type": "code",
   "execution_count": 10,
   "metadata": {},
   "outputs": [
    {
     "data": {
      "text/plain": [
       "'50 Pcs Fidget Toys Pack - Kids Stocking Stuffers Gifts for Kids, Party Favors Autism Autistic Children - Adults Stress Relief Sensory Toy - ADHD Toys Bulk for Classroom Treasure Box Prizes - Pop Its'"
      ]
     },
     "execution_count": 10,
     "metadata": {},
     "output_type": "execute_result"
    }
   ],
   "source": [
    "search_soup.find('span', attrs={'id':'productTitle'}).text.strip()"
   ]
  },
  {
   "cell_type": "markdown",
   "metadata": {},
   "source": [
    "<h3>Product Price</h3>"
   ]
  },
  {
   "cell_type": "code",
   "execution_count": 11,
   "metadata": {},
   "outputs": [
    {
     "data": {
      "text/plain": [
       "'$24.95'"
      ]
     },
     "execution_count": 11,
     "metadata": {},
     "output_type": "execute_result"
    }
   ],
   "source": [
    "search_soup.find('span', attrs={'class':'a-price aok-align-center'}).find('span', attrs={'class':'a-offscreen'}).text"
   ]
  },
  {
   "cell_type": "markdown",
   "metadata": {},
   "source": [
    "<h3>Product Rating</h3>"
   ]
  },
  {
   "cell_type": "code",
   "execution_count": 12,
   "metadata": {},
   "outputs": [
    {
     "data": {
      "text/plain": [
       "'4.6 out of 5 stars'"
      ]
     },
     "execution_count": 12,
     "metadata": {},
     "output_type": "execute_result"
    }
   ],
   "source": [
    "search_soup.find('span', attrs={'class':'a-icon-alt'}).text"
   ]
  },
  {
   "cell_type": "markdown",
   "metadata": {},
   "source": [
    "<h5>Percentage of Each Star Rating</h5>"
   ]
  },
  {
   "cell_type": "code",
   "execution_count": 13,
   "metadata": {},
   "outputs": [
    {
     "data": {
      "text/plain": [
       "'5 star'"
      ]
     },
     "execution_count": 13,
     "metadata": {},
     "output_type": "execute_result"
    }
   ],
   "source": [
    "search_soup.find('td', attrs={'class':'aok-nowrap a-nowrap'}).text"
   ]
  },
  {
   "cell_type": "code",
   "execution_count": 14,
   "metadata": {},
   "outputs": [
    {
     "data": {
      "text/plain": [
       "'78%'"
      ]
     },
     "execution_count": 14,
     "metadata": {},
     "output_type": "execute_result"
    }
   ],
   "source": [
    "search_soup.find('td', attrs={'class':'a-text-right a-nowrap a-nowrap'}).text"
   ]
  },
  {
   "cell_type": "code",
   "execution_count": 15,
   "metadata": {},
   "outputs": [
    {
     "data": {
      "text/plain": [
       "'5 star'"
      ]
     },
     "execution_count": 15,
     "metadata": {},
     "output_type": "execute_result"
    }
   ],
   "source": [
    "search_soup.find('a', attrs={'aria-label':'All 5 star reviews'}).text"
   ]
  },
  {
   "cell_type": "code",
   "execution_count": null,
   "metadata": {},
   "outputs": [],
   "source": [
    "#search_soup.find('a', attrs={'aria-label':'73 percent of reviews have 5 stars'}).text"
   ]
  },
  {
   "cell_type": "code",
   "execution_count": 17,
   "metadata": {},
   "outputs": [
    {
     "data": {
      "text/plain": [
       "'5 star78%'"
      ]
     },
     "execution_count": 17,
     "metadata": {},
     "output_type": "execute_result"
    }
   ],
   "source": [
    "search_soup.find('tr', attrs={'class':'a-histogram-row a-align-center'}).text"
   ]
  }
 ],
 "metadata": {
  "kernelspec": {
   "display_name": "venv-py-projects",
   "language": "python",
   "name": "python3"
  },
  "language_info": {
   "codemirror_mode": {
    "name": "ipython",
    "version": 3
   },
   "file_extension": ".py",
   "mimetype": "text/x-python",
   "name": "python",
   "nbconvert_exporter": "python",
   "pygments_lexer": "ipython3",
   "version": "3.10.7"
  }
 },
 "nbformat": 4,
 "nbformat_minor": 2
}
